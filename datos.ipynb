{
 "cells": [
  {
   "cell_type": "code",
   "execution_count": 2,
   "metadata": {},
   "outputs": [],
   "source": [
    "import matplotlib.pyplot as plt\n",
    "import numpy as np"
   ]
  },
  {
   "cell_type": "markdown",
   "metadata": {},
   "source": [
    "aquicomienza lo bueno"
   ]
  },
  {
   "cell_type": "code",
   "execution_count": 130,
   "metadata": {},
   "outputs": [],
   "source": [
    "#                  sombra                     |                  altura\n",
    "#hora\t\n",
    "#hora\t10\t12\t13\t14\t15\t                          10\t12\t13\t14\t15\n",
    "#       0   1   2   3   4                             5     6   7   8   9"
   ]
  },
  {
   "cell_type": "code",
   "execution_count": 131,
   "metadata": {},
   "outputs": [],
   "source": [
    "#grafico de las 14\n",
    "datosJB14=np.genfromtxt('medJB.txt',usecols=(3,8) )\n",
    "\n",
    "datosJY14=np.genfromtxt('medJY.txt',usecols=(3,8),skip_footer=5 )\n",
    "\n",
    "datosL14=np.genfromtxt('medL.txt',usecols=(3,8)  ) #cambie los footer y headcher\n",
    "\n",
    "datosP14=np.genfromtxt('medP.txt',usecols=(3,8)  )\n",
    "#print(len(datosJY),len(datosJB),len(datosL))\n",
    "\n",
    "#print(datosL)\n",
    "\n",
    "\n"
   ]
  },
  {
   "cell_type": "markdown",
   "metadata": {},
   "source": [
    "$$   s=r \\cdot \\theta   $$\n",
    "$$    r= \\frac{s}{\\theta}  $$"
   ]
  },
  {
   "cell_type": "code",
   "execution_count": 132,
   "metadata": {},
   "outputs": [],
   "source": [
    "def radio(distancia,angulo):\n",
    "    \n",
    "    if type(angulo)==np.float64:\n",
    "        return distancia/angulo\n",
    "    else:\n",
    "\n",
    "        for i in range(len(angulo)):\n",
    "            if angulo[i] == 0 :\n",
    "             angulo[i]='nan'\n",
    "\n",
    "        return distancia/angulo\n",
    "\n",
    "def grados(angulo):\n",
    "    return angulo*(180/np.pi)\n",
    "\n",
    "\n",
    "def media(datosa):\n",
    "    prom = np.zeros(len(datosa))\n",
    "    div = 0\n",
    "    for i in range(len(datosa)):\n",
    "        if np.isnan(datosa[i])==False:\n",
    "            prom += datosa[i]\n",
    "            div += 1 \n",
    "        else:\n",
    "            next\n",
    "\n",
    "    prom = prom/div\n",
    "    return prom[0]"
   ]
  },
  {
   "cell_type": "code",
   "execution_count": 133,
   "metadata": {},
   "outputs": [],
   "source": [
    "#distancia chillan a chiu , de chilla a concepción, de conce  a chiu, de victoria a chiu, de victoria a concepción y de victoria a chillan\n",
    "dist1=1622  #[Km]  chillan a chiu\n",
    "dist2=90    #[Km]  chillan a concepción\n",
    "dist3=1660  #[Km]  concepción a chiu\n",
    "dist4=1800  #[Km]  victoria a chiu\n",
    "dist5=175   #[Km]  victoria a concepción\n",
    "dist6=180   #[Km]  victoria a chillan\n"
   ]
  },
  {
   "cell_type": "code",
   "execution_count": 7,
   "metadata": {},
   "outputs": [],
   "source": [
    "#datos JY angulo en radianes\n",
    "angulochiu14=     np.arctan(  datosJY14[:,0]  /  datosJY14[:,1]  )\n",
    "\n",
    "#datos JB en radianes\n",
    "angulochillan14=  np.arctan(  datosJB14[:,0]  /  datosJB14[:,1]  )\n",
    "\n",
    "#datos L en radianes\n",
    "anguloconce14=    np.arctan(  datosL14[:,0] /  datosL14[:,1] )\n",
    "\n",
    "#datos P en radianes\n",
    "angulovic14=    np.arctan(  datosP14[:,0] /  datosP14[:,1] )\n",
    "\n",
    "#para efectos del grafico\n",
    "x20=[range(1,21)]\n",
    "x15=[range(1,16)]\n",
    "x5=[range(1,6)]\n",
    "\n",
    "\n",
    "#radios \n",
    "radiocc14=radio(dist1,abs( angulochillan14 )) # eratostenes, le reste angulochiu14\n",
    "radiocc114=radio(dist2,abs( angulochillan14 - anguloconce14 ))\n",
    "radioconchi14=radio(dist3,abs( anguloconce14 - angulochiu14 ))\n",
    "radioviccon14=radio(dist5,abs(anguloconce14 - angulovic14))\n",
    "radiovicchi14=radio(dist6, abs( angulovic14 - angulochillan14  ))\n",
    "radiochiuvic14= radio( dist4, abs( angulochiu14 - angulovic14  ) )"
   ]
  },
  {
   "cell_type": "code",
   "execution_count": 21,
   "metadata": {},
   "outputs": [
    {
     "data": {
      "image/png": "[encoded data removed]",
      "text/plain": [
       "<Figure size 432x288 with 1 Axes>"
      ]
     },
     "metadata": {
      "needs_background": "light"
     },
     "output_type": "display_data"
    }
   ],
   "source": [
    "plt.scatter(x15,radiocc114,marker='+',c='black')\n",
    "plt.scatter(x15,radiocc14,marker='s',c='blue')\n",
    "plt.scatter(x15,radioconchi14,marker='v',c='red')\n",
    "plt.scatter(x15,radioviccon14)\n",
    "plt.scatter(x15,radiovicchi14)\n",
    "plt.scatter(x15,radiochiuvic14)\n",
    "#plt.axis([0,16,0,10000])\n",
    "plt.ylabel('radio calculado de la tierra')# nose que ponerle\n",
    "plt.xlabel('numero de medición')\n",
    "plt.title('hora de medicion: 14.00 horas') # poner hora bien\n",
    "plt.show()"
   ]
  },
  {
   "cell_type": "code",
   "execution_count": 30,
   "metadata": {},
   "outputs": [
    {
     "name": "stdout",
     "output_type": "stream",
     "text": [
      "5773.065067280128\n",
      "nan\n",
      "5470.435854398586\n",
      "8828.43881617435\n"
     ]
    }
   ],
   "source": [
    "print(np.mean(radio(dist1,angulochillan14  )  ))\n",
    "print(np.mean(radio(dist1,anguloconce14  )  ))\n",
    "print(np.mean(radio(dist1,angulovic14  )  ))\n",
    "\n",
    "print(np.mean(radio(dist1,angulochiu14  )  ))\n"
   ]
  },
  {
   "cell_type": "markdown",
   "metadata": {},
   "source": [
    "grafico de llas 12.00"
   ]
  },
  {
   "cell_type": "code",
   "execution_count": 23,
   "metadata": {},
   "outputs": [
    {
     "name": "stdout",
     "output_type": "stream",
     "text": [
      "15 15 15\n"
     ]
    }
   ],
   "source": [
    "#grafico de las 12.00\n",
    "datosJB12=np.genfromtxt('medJB.txt',usecols=(1,6) )\n",
    "\n",
    "datosJY12=np.genfromtxt('medJY.txt',usecols=(1,6),skip_footer=5 )\n",
    "\n",
    "datosL12=np.genfromtxt('medL.txt',usecols=(1,6)  ) #cambie los footer y headcher\n",
    "\n",
    "datosP12=np.genfromtxt('medP.txt',usecols=(1,6)  )\n",
    "\n",
    "print(len(datosJY12),len(datosJB12),len(datosL12))\n"
   ]
  },
  {
   "cell_type": "code",
   "execution_count": 24,
   "metadata": {},
   "outputs": [],
   "source": [
    "#datos JY angulo en radianes\n",
    "angulochiu12=     np.arctan(  datosJY12[:,0]  /  datosJY12[:,1]  )\n",
    "\n",
    "#datos JB en radianes\n",
    "angulochillan12=  np.arctan(  datosJB12[:,0]  /  datosJB12[:,1]  )\n",
    "\n",
    "#datos L en radianes\n",
    "anguloconce12=    np.arctan(  datosL12[:,0] /  datosL12[:,1] )\n",
    "\n",
    "#datos P en radianes\n",
    "angulovic12=    np.arctan(  datosP12[:,0] /  datosP12[:,1] )\n",
    "\n",
    "\n",
    "\n"
   ]
  },
  {
   "cell_type": "code",
   "execution_count": 25,
   "metadata": {},
   "outputs": [],
   "source": [
    "#radios \n",
    "radiocc12=radio(dist1,abs( angulochiu12-angulochillan12 ))\n",
    "radiocc112=radio(dist2,abs( angulochillan12 - anguloconce12 ))\n",
    "radioconchi12=radio(dist3,abs( anguloconce12 - angulochiu12 ))\n",
    "radioviccon12=radio(dist5,abs(anguloconce12 - angulovic14))\n",
    "radiovicchi12=radio(dist6, abs( angulovic12 - angulochillan12  ))\n",
    "radiochiuvic12= radio( dist4, abs( angulochiu12 - angulovic12  ) )"
   ]
  },
  {
   "cell_type": "code",
   "execution_count": 26,
   "metadata": {},
   "outputs": [
    {
     "data": {
      "image/png": "[encoded data removed]",
      "text/plain": [
       "<Figure size 432x288 with 1 Axes>"
      ]
     },
     "metadata": {
      "needs_background": "light"
     },
     "output_type": "display_data"
    }
   ],
   "source": [
    "plt.scatter(x15,radiocc112,marker='+',c='black')\n",
    "plt.scatter(x15,radiocc12,marker='s',c='blue')\n",
    "plt.scatter(x15,radioconchi12,marker='v',c='red')\n",
    "plt.scatter(x15,radioviccon12)\n",
    "plt.scatter(x15,radiovicchi12)\n",
    "plt.scatter(x15,radiochiuvic12)\n",
    "#plt.axis([0,16,0,10000])\n",
    "plt.ylabel('radio calculado de la tierra')# nose que ponerle\n",
    "plt.xlabel('numero de medición')\n",
    "plt.title('hora de medicion: 12.00 horas') # poner hora bien\n",
    "plt.show()"
   ]
  },
  {
   "cell_type": "code",
   "execution_count": 33,
   "metadata": {},
   "outputs": [
    {
     "name": "stdout",
     "output_type": "stream",
     "text": [
      "nan\n",
      "nan\n",
      "3532.8390682753065\n",
      "5550.715283648056\n"
     ]
    }
   ],
   "source": [
    "print(np.mean(radio(dist1,angulochillan12  )  ))\n",
    "print(np.mean(radio(dist1,anguloconce12  )  ))\n",
    "print(np.mean(radio(dist1,angulovic12  )  ))\n",
    "\n",
    "print(np.mean(radio(dist1,angulochiu12  )  ))\n",
    "\n",
    "\n"
   ]
  },
  {
   "cell_type": "markdown",
   "metadata": {},
   "source": [
    "grafico de las 10"
   ]
  },
  {
   "cell_type": "code",
   "execution_count": 35,
   "metadata": {},
   "outputs": [],
   "source": [
    "#grafico de las 12.00\n",
    "datosJB10=np.genfromtxt('medJB.txt',usecols=(0,5) )\n",
    "\n",
    "datosJY10=np.genfromtxt('medJY.txt',usecols=(0,5),skip_footer=5 )\n",
    "\n",
    "datosL10=np.genfromtxt('medL.txt',usecols=(0,5)  ) #cambie los footer y headcher\n",
    "\n",
    "datosP10=np.genfromtxt('medP.txt',usecols=(3,8)  )\n",
    "\n",
    "\n"
   ]
  },
  {
   "cell_type": "code",
   "execution_count": 36,
   "metadata": {},
   "outputs": [],
   "source": [
    "#datos JY angulo en radianes\n",
    "angulochiu10=     np.arctan(  datosJY12[:,0]  /  datosJY12[:,1]  )\n",
    "\n",
    "#datos JB en radianes\n",
    "angulochillan10=  np.arctan(  datosJB12[:,0]  /  datosJB12[:,1]  )\n",
    "\n",
    "#datos L en radianes\n",
    "anguloconce10=    np.arctan(  datosL12[:,0] /  datosL12[:,1] )\n",
    "\n",
    "#datos P en radianes\n",
    "angulovic10=    np.arctan(  datosP10[:,0] /  datosP10[:,1] )"
   ]
  },
  {
   "cell_type": "code",
   "execution_count": 37,
   "metadata": {},
   "outputs": [],
   "source": [
    "#radios \n",
    "radiocc10=radio(dist1,abs( angulochiu10-angulochillan10 ))\n",
    "radiocc110=radio(dist2,abs( angulochillan10 - anguloconce10 ))\n",
    "radioconchi10=radio(dist3,abs( anguloconce10 - angulochiu10 ))\n",
    "radioviccon10=radio(dist5,abs(anguloconce10 - angulovic10))\n",
    "radiovicchi10=radio(dist6, abs( angulovic10 - angulochillan10  ))\n",
    "radiochiuvic10= radio( dist4, abs( angulochiu10 - angulovic10  ) )"
   ]
  },
  {
   "cell_type": "code",
   "execution_count": 38,
   "metadata": {},
   "outputs": [
    {
     "data": {
      "image/png": "[encoded data removed]",
      "text/plain": [
       "<Figure size 432x288 with 1 Axes>"
      ]
     },
     "metadata": {
      "needs_background": "light"
     },
     "output_type": "display_data"
    }
   ],
   "source": [
    "plt.scatter(x15,radiocc110,marker='+',c='black')\n",
    "plt.scatter(x15,radiocc10,marker='s',c='blue')\n",
    "plt.scatter(x15,radioconchi10,marker='v',c='red')\n",
    "plt.scatter(x15,radioviccon10)\n",
    "plt.scatter(x15,radiovicchi10)\n",
    "plt.scatter(x15,radiochiuvic10)\n",
    "#plt.axis([0,16,0,10000])\n",
    "plt.ylabel('radio calculado de la tierra')# nose que ponerle\n",
    "plt.xlabel('numero de medición')\n",
    "plt.title('hora de medicion: 10.00 horas') # poner hora bien\n",
    "plt.show()"
   ]
  },
  {
   "cell_type": "code",
   "execution_count": 78,
   "metadata": {},
   "outputs": [
    {
     "name": "stdout",
     "output_type": "stream",
     "text": [
      "nan\n",
      "nan\n",
      "21619.859081628183\n",
      "5550.715283648056\n",
      "nan\n",
      "nan\n",
      "5470.435854398586\n",
      "5550.715283648056\n"
     ]
    }
   ],
   "source": [
    "print(np.mean(radio(dist1,angulochillan10  -angulochiu10)  ))\n",
    "print(np.mean(radio(dist1,anguloconce10 -angulochiu10 )  ))\n",
    "print(np.mean(radio(dist1,-1*(angulovic10 - angulochiu10 ) )  ))\n",
    "\n",
    "print(np.mean(radio(dist1,angulochiu10  )  ))\n",
    "print(np.mean(radio(dist1,angulochillan10  )  ))\n",
    "print(np.mean(radio(dist1,anguloconce10 )  ))\n",
    "print(np.mean(radio(dist1,angulovic10  )  ))\n",
    "\n",
    "print(np.mean(radio(dist1,angulochiu10  )  ))"
   ]
  },
  {
   "cell_type": "code",
   "execution_count": 40,
   "metadata": {},
   "outputs": [],
   "source": [
    "#grafico de las 13.00\n",
    "datosJB13=np.genfromtxt('medJB.txt',usecols=(2,7) )\n",
    "\n",
    "datosJY13=np.genfromtxt('medJY.txt',usecols=(2,7),skip_footer=5 )\n",
    "\n",
    "datosL13=np.genfromtxt('medL.txt',usecols=(2,7)  ) #cambie los footer y headcher\n",
    "\n",
    "datosP13=np.genfromtxt('medP.txt',usecols=(2,7)  )\n"
   ]
  },
  {
   "cell_type": "code",
   "execution_count": 41,
   "metadata": {},
   "outputs": [],
   "source": [
    "#datos JY angulo en radianes\n",
    "angulochiu13=     np.arctan(  datosJY13[:,0]  /  datosJY13[:,1]  )\n",
    "\n",
    "#datos JB en radianes\n",
    "angulochillan13=  np.arctan(  datosJB13[:,0]  /  datosJB13[:,1]  )\n",
    "\n",
    "#datos L en radianes\n",
    "anguloconce13=    np.arctan(  datosL13[:,0] /  datosL13[:,1] )\n",
    "\n",
    "#datos P en radianes\n",
    "angulovic13=    np.arctan(  datosP13[:,0] /  datosP13[:,1] )"
   ]
  },
  {
   "cell_type": "code",
   "execution_count": 42,
   "metadata": {},
   "outputs": [],
   "source": [
    "#radios \n",
    "radiocc13=radio(dist1,abs( angulochiu13-angulochillan13 ))\n",
    "radiocc113=radio(dist2,abs( angulochillan13 - anguloconce13 ))\n",
    "radioconchi13=radio(dist3,abs( anguloconce13 - angulochiu13 ))\n",
    "radioviccon13=radio(dist5,abs(anguloconce13 - angulovic13))\n",
    "radiovicchi13=radio(dist6, abs( angulovic13 - angulochillan13  ))\n",
    "radiochiuvic13= radio( dist4, abs( angulochiu13 - angulovic13  ) )"
   ]
  },
  {
   "cell_type": "code",
   "execution_count": 61,
   "metadata": {},
   "outputs": [
    {
     "data": {
      "image/png": "[encoded data removed]",
      "text/plain": [
       "<Figure size 432x288 with 1 Axes>"
      ]
     },
     "metadata": {
      "needs_background": "light"
     },
     "output_type": "display_data"
    }
   ],
   "source": [
    "plt.scatter(x15,radiocc113,marker='+',c='black')\n",
    "plt.scatter(x15,radiocc13,marker='s',c='blue')\n",
    "plt.scatter(x15,radioconchi13,marker='v',c='red')\n",
    "plt.scatter(x15,radioviccon13)\n",
    "plt.scatter(x15,radiovicchi13)\n",
    "plt.scatter(x15,radiochiuvic13)\n",
    "#plt.axis([0,16,0,10000])\n",
    "plt.ylabel('radio calculado de la tierra')# nose que ponerle\n",
    "plt.xlabel('numero de medición')\n",
    "plt.title('hora de medicion: 13.00 horas') # poner hora bien\n",
    "plt.show()"
   ]
  },
  {
   "cell_type": "code",
   "execution_count": 63,
   "metadata": {},
   "outputs": [
    {
     "name": "stdout",
     "output_type": "stream",
     "text": [
      "5915.97461063725\n",
      "nan\n",
      "5744.672861773799\n",
      "23188.542599628952\n"
     ]
    }
   ],
   "source": [
    "print(np.mean(radio(dist1,angulochillan13   )  ))\n",
    "print(np.mean(radio(dist1,anguloconce13  )  ))\n",
    "print(np.mean(radio(dist4,angulovic13  )  ))\n",
    "\n",
    "print(np.mean(radio(dist1, angulochiu13 )  ))"
   ]
  },
  {
   "cell_type": "markdown",
   "metadata": {},
   "source": [
    "grafico 15"
   ]
  },
  {
   "cell_type": "code",
   "execution_count": 64,
   "metadata": {},
   "outputs": [
    {
     "name": "stdout",
     "output_type": "stream",
     "text": [
      "[[ 21.4  48.6]\n",
      " [ 28.8  60. ]\n",
      " [ 31.5  71.4]\n",
      " [ 38.7  84.6]\n",
      " [ 44.5 100.5]\n",
      " [ 24.3  49.6]\n",
      " [ 27.   60.8]\n",
      " [ 32.3  72.1]\n",
      " [ 36.1  84.6]\n",
      " [ 45.5  99.9]\n",
      " [ 24.8  49.3]\n",
      " [ 30.6  60.6]\n",
      " [ 35.6  71.6]\n",
      " [ 37.6  84.3]\n",
      " [ 46.7  99.2]] [[ 4.7 10.3]\n",
      " [ 3.6  7.5]\n",
      " [ 3.2  6.6]\n",
      " [ 2.3  5. ]\n",
      " [ 1.3  2.1]\n",
      " [ 4.2 10.3]\n",
      " [ 3.1  7.5]\n",
      " [ 2.8  6.6]\n",
      " [ 2.   5. ]\n",
      " [ 1.1  2.1]\n",
      " [ 4.3 10.3]\n",
      " [ 3.2  7.5]\n",
      " [ 2.8  6.6]\n",
      " [ 2.2  5. ]\n",
      " [ 1.   2.1]]\n"
     ]
    }
   ],
   "source": [
    "#grafico de las 15.00\n",
    "datosJB15=np.genfromtxt('medJB.txt',usecols=(4,9) )\n",
    "\n",
    "datosJY15=np.genfromtxt('medJY.txt',usecols=(4,9),skip_footer=5 )\n",
    "\n",
    "datosL15=np.genfromtxt('medL.txt',usecols=(4,9)  ) #cambie los footer y headcher  no tiene mediciones  :c\n",
    "\n",
    "datosP15=np.genfromtxt('medP.txt',usecols=(4,9)  )\n",
    "print(datosJB15 , datosP15)"
   ]
  },
  {
   "cell_type": "code",
   "execution_count": 65,
   "metadata": {},
   "outputs": [
    {
     "name": "stdout",
     "output_type": "stream",
     "text": [
      "[nan nan nan nan nan nan nan nan nan nan nan nan nan nan nan]\n"
     ]
    }
   ],
   "source": [
    "#datos JY angulo en radianes\n",
    "angulochiu15=     np.arctan(  datosJY15[:,0]  /  datosJY15[:,1]  )\n",
    "\n",
    "#datos JB en radianes\n",
    "angulochillan15=  np.arctan(  datosJB15[:,0]  /  datosJB15[:,1]  )\n",
    "\n",
    "#datos L en radianes\n",
    "anguloconce15=    np.arctan(  datosL15[:,0] /  datosL15[:,1] )\n",
    "\n",
    "#datos P en radianes\n",
    "angulovic15=    np.arctan(  datosP15[:,0] /  datosP15[:,1] )\n",
    "print(anguloconce15)\n"
   ]
  },
  {
   "cell_type": "code",
   "execution_count": 66,
   "metadata": {},
   "outputs": [
    {
     "name": "stdout",
     "output_type": "stream",
     "text": [
      "[ 103611.92747949   42872.77272114   39921.12145876  117864.41183248\n",
      "   15079.65742645  217826.44350943  726640.14890738  132917.6795694\n",
      "   40365.22079258   43506.30236425  296240.60221599  562135.49267488\n",
      " 2110500.51172686  415779.66759655   76238.0077485 ]\n"
     ]
    }
   ],
   "source": [
    "#radios \n",
    "radiocc15=radio(dist1,abs( angulochiu15-angulochillan15 ))\n",
    "#radiocc115=radio(dist2,abs( angulochillan15 - anguloconce15 ))\n",
    "#radioconchi15=radio(dist3,abs( anguloconce15 - angulochiu15 ))\n",
    "#radioviccon15=radio(dist5,abs(anguloconce15 - angulovic15))\n",
    "radiovicchi15=radio(dist6, abs( angulovic15 - angulochillan15  ))\n",
    "radiochiuvic15= radio( dist4, abs( angulochiu15 - angulovic15  ) )\n",
    "\n",
    "print(radiochiuvic15)\n"
   ]
  },
  {
   "cell_type": "code",
   "execution_count": 67,
   "metadata": {},
   "outputs": [
    {
     "data": {
      "image/png": "[encoded data removed]",
      "text/plain": [
       "<Figure size 432x288 with 1 Axes>"
      ]
     },
     "metadata": {
      "needs_background": "light"
     },
     "output_type": "display_data"
    }
   ],
   "source": [
    "#plt.scatter(x15,radiocc115,marker='+',c='black')\n",
    "plt.scatter(x15,radiocc15,marker='s',c='blue')\n",
    "#plt.scatter(x15,radioconchi15,marker='v',c='red')\n",
    "#plt.scatter(x15,radioviccon15)\n",
    "plt.scatter(x15,radiovicchi15)\n",
    "plt.scatter(x15,radiochiuvic15)\n",
    "#plt.axis([0,16,0,10000])\n",
    "plt.ylabel('radio calculado de la tierra')# nose que ponerle\n",
    "plt.xlabel('numero de medición')\n",
    "plt.title('hora de medicion: 15.00 horas') # poner hora bien\n",
    "plt.show()"
   ]
  },
  {
   "cell_type": "code",
   "execution_count": 74,
   "metadata": {},
   "outputs": [
    {
     "name": "stdout",
     "output_type": "stream",
     "text": [
      "3749.121618638433\n",
      "nan\n",
      "4247.91344710473\n",
      "3943.73100271304\n"
     ]
    }
   ],
   "source": [
    "print(np.mean(radio(dist1,angulochillan15   )  ))\n",
    "print(np.mean(radio(dist1,anguloconce15  )  ))\n",
    "print(np.mean(radio(dist4,angulovic15  )  ))\n",
    "\n",
    "print(np.mean(radio(dist1, angulochiu15 )  ))"
   ]
  },
  {
   "cell_type": "markdown",
   "metadata": {},
   "source": [
    "Graficas del radio de la tierra considerando que a ciuertas horas es mejor la medición"
   ]
  },
  {
   "cell_type": "code",
   "execution_count": 125,
   "metadata": {},
   "outputs": [],
   "source": [
    "#grafico de las 1, la mejor hora para calcular el radio de la tierra debido a que en Chiu - Chiu el angulo entre el objeto \n",
    "#y la sombra es mejor\n",
    "\n",
    "#radios \n",
    "radiocc13=radio(dist1,abs( angulochillan13 ))\n",
    "\n",
    "\n",
    "#radioconchi13=radio(dist3,abs( anguloconce13 - angulochiu13) )  muy disperso los datos\n",
    "\n",
    "radiochiuvic13= radio( dist4, abs(  - angulovic13  ) )\n"
   ]
  },
  {
   "cell_type": "code",
   "execution_count": 129,
   "metadata": {},
   "outputs": [
    {
     "data": {
      "image/png": "[encoded data removed]",
      "text/plain": [
       "<Figure size 432x288 with 1 Axes>"
      ]
     },
     "metadata": {
      "needs_background": "light"
     },
     "output_type": "display_data"
    }
   ],
   "source": [
    "plt.scatter(x15,radiocc13,marker='+',c='black')\n",
    "\n",
    "plt.scatter(x15,radioconchi13,marker='v',c='red')\n",
    "\n",
    "plt.scatter(x15,radiochiuvic13)\n",
    "#plt.axis([0,16,0,10000])\n",
    "plt.ylabel('radio calculado de la tierra')# nose que ponerle\n",
    "plt.xlabel('numero de medición')\n",
    "plt.title('hora de medicion: 13.00 horas') # poner hora bien\n",
    "plt.show()"
   ]
  },
  {
   "cell_type": "markdown",
   "metadata": {},
   "source": [
    "radios que usaremos"
   ]
  },
  {
   "cell_type": "code",
   "execution_count": null,
   "metadata": {},
   "outputs": [],
   "source": [
    "radiochiuvic13= radio( dist4, abs(  - angulovic13  ) )\n",
    "radiocc13=radio(dist1,abs( angulochillan13 ))\n",
    "radiocc14=radio(dist1,abs( angulochillan14 ))  #era un eratostenes"
   ]
  },
  {
   "cell_type": "code",
   "execution_count": 143,
   "metadata": {},
   "outputs": [],
   "source": [
    "\n",
    "radiocc114=radio(dist2,abs( angulochillan14 - anguloconce14 ))\n",
    "radioconchi14=radio(dist3,abs( anguloconce14 - angulochiu14 ))\n",
    "radioviccon14=radio(dist5,abs(anguloconce14 - angulovic14))\n",
    "radiovicchi14=radio(dist6, abs( angulovic14 - angulochillan14  ))\n",
    "radiochiuvic14= radio( dist4, abs( angulochiu14 - angulovic14  ) )"
   ]
  },
  {
   "cell_type": "code",
   "execution_count": 144,
   "metadata": {},
   "outputs": [
    {
     "name": "stdout",
     "output_type": "stream",
     "text": [
      "[          nan           nan           nan           nan           nan\n",
      "  101.39559512  145.56126369  468.45586764  250.40236149 1569.32758648\n",
      "           nan           nan           nan           nan           nan]\n"
     ]
    }
   ],
   "source": [
    "print(radiocc114)"
   ]
  },
  {
   "cell_type": "code",
   "execution_count": null,
   "metadata": {},
   "outputs": [],
   "source": []
  }
 ],
 "metadata": {
  "interpreter": {
   "hash": "b588faca13265a58fed146e0f5fd59ad7ba844d61c0df5e23f08ab75da131f61"
  },
  "kernelspec": {
   "display_name": "Python 3 (Spyder)",
   "language": "python3",
   "name": "python3"
  },
  "language_info": {
   "codemirror_mode": {
    "name": "ipython",
    "version": 3
   },
   "file_extension": ".py",
   "mimetype": "text/x-python",
   "name": "python",
   "nbconvert_exporter": "python",
   "pygments_lexer": "ipython3",
   "version": "3.8.8"
  }
 },
 "nbformat": 4,
 "nbformat_minor": 4
}
