{
 "cells": [
  {
   "cell_type": "code",
   "execution_count": 3,
   "metadata": {},
   "outputs": [],
   "source": [
    "import matplotlib.pyplot as plt\n",
    "import numpy as np"
   ]
  },
  {
   "cell_type": "markdown",
   "metadata": {},
   "source": [
    "aquicomienza lo bueno"
   ]
  },
  {
   "cell_type": "code",
   "execution_count": 4,
   "metadata": {},
   "outputs": [],
   "source": [
    "#                  sombra                     |                  altura\n",
    "#hora\t\n",
    "#hora\t10\t12\t13\t14\t15\t                          10\t12\t13\t14\t15\n",
    "#       0   1   2   3   4                             5     6   7   8   9"
   ]
  },
  {
   "cell_type": "code",
   "execution_count": 5,
   "metadata": {},
   "outputs": [],
   "source": [
    "#grafico de las 14\n",
    "datosJB14=np.genfromtxt('medJB.txt',usecols=(3,8) )\n",
    "\n",
    "datosJY14=np.genfromtxt('medJY.txt',usecols=(3,8),skip_footer=5 )\n",
    "\n",
    "datosL14=np.genfromtxt('medL.txt',usecols=(3,8)  ) #cambie los footer y headcher\n",
    "\n",
    "datosP14=np.genfromtxt('medP.txt',usecols=(3,8)  )\n",
    "#print(len(datosJY),len(datosJB),len(datosL))\n",
    "\n",
    "#print(datosL)\n",
    "\n",
    "\n"
   ]
  },
  {
   "cell_type": "markdown",
   "metadata": {},
   "source": [
    "$$   s=r \\cdot \\theta   $$\n",
    "$$    r= \\frac{s}{\\theta}  $$"
   ]
  },
  {
   "cell_type": "code",
   "execution_count": 6,
   "metadata": {},
   "outputs": [],
   "source": [
    "def radio(distancia,angulo):\n",
    "    \n",
    "    if type(angulo)==np.float64:\n",
    "        return distancia/angulo\n",
    "    else:\n",
    "\n",
    "        for i in range(len(angulo)):\n",
    "            if angulo[i] == 0 :\n",
    "             angulo[i]='nan'\n",
    "\n",
    "        return distancia/angulo\n",
    "\n",
    "def grados(angulo):\n",
    "    return angulo*(180/np.pi)\n",
    "\n",
    "\n",
    "def media(datosa):\n",
    "    prom = np.zeros(len(datosa))\n",
    "    div = 0\n",
    "    for i in range(len(datosa)):\n",
    "        if np.isnan(datosa[i])==False:\n",
    "            prom += datosa[i]\n",
    "            div += 1 \n",
    "        else:\n",
    "            next\n",
    "\n",
    "    prom = prom/div\n",
    "    return prom[0]"
   ]
  },
  {
   "cell_type": "code",
   "execution_count": 7,
   "metadata": {},
   "outputs": [],
   "source": [
    "#distancia chillan a chiu , de chilla a concepción, de conce  a chiu, de victoria a chiu, de victoria a concepción y de victoria a chillan\n",
    "dist1=1622  #[Km]  chillan a chiu\n",
    "dist2=90    #[Km]  chillan a concepción\n",
    "dist3=1660  #[Km]  concepción a chiu\n",
    "dist4=1800  #[Km]  victoria a chiu\n",
    "dist5=175   #[Km]  victoria a concepción\n",
    "dist6=180   #[Km]  victoria a chillan\n"
   ]
  },
  {
   "cell_type": "code",
   "execution_count": 8,
   "metadata": {},
   "outputs": [],
   "source": [
    "#datos JY angulo en radianes\n",
    "angulochiu14=     np.arctan(  datosJY14[:,0]  /  datosJY14[:,1]  )\n",
    "\n",
    "#datos JB en radianes\n",
    "angulochillan14=  np.arctan(  datosJB14[:,0]  /  datosJB14[:,1]  )\n",
    "\n",
    "#datos L en radianes\n",
    "anguloconce14=    np.arctan(  datosL14[:,0] /  datosL14[:,1] )\n",
    "\n",
    "#datos P en radianes\n",
    "angulovic14=    np.arctan(  datosP14[:,0] /  datosP14[:,1] )\n",
    "\n",
    "#para efectos del grafico\n",
    "x20=[range(1,21)]\n",
    "x15=[range(1,16)]\n",
    "x5=[range(1,6)]\n",
    "\n",
    "\n",
    "#radios \n",
    "radiocc14=radio(dist1,abs( angulochillan14 )) # eratostenes, le reste angulochiu14\n",
    "radiocc114=radio(dist2,abs( angulochillan14 - anguloconce14 ))\n",
    "radioconchi14=radio(dist3,abs( anguloconce14 - angulochiu14 ))\n",
    "radioviccon14=radio(dist5,abs(anguloconce14 - angulovic14))\n",
    "radiovicchi14=radio(dist6, abs( angulovic14 - angulochillan14  ))\n",
    "radiochiuvic14= radio( dist4, abs( angulochiu14 - angulovic14  ) )"
   ]
  },
  {
   "cell_type": "code",
   "execution_count": 9,
   "metadata": {},
   "outputs": [
    {
     "data": {
      "image/png": "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",
      "text/plain": [
       "<Figure size 432x288 with 1 Axes>"
      ]
     },
     "metadata": {
      "needs_background": "light"
     },
     "output_type": "display_data"
    }
   ],
   "source": [
    "plt.scatter(x15,radiocc114,marker='+',c='black')\n",
    "plt.scatter(x15,radiocc14,marker='s',c='blue')\n",
    "plt.scatter(x15,radioconchi14,marker='v',c='red')\n",
    "plt.scatter(x15,radioviccon14)\n",
    "plt.scatter(x15,radiovicchi14)\n",
    "plt.scatter(x15,radiochiuvic14)\n",
    "#plt.axis([0,16,0,10000])\n",
    "plt.ylabel('radio calculado de la tierra')# nose que ponerle\n",
    "plt.xlabel('numero de medición')\n",
    "plt.title('hora de medicion: 14.00 horas') # poner hora bien\n",
    "plt.show()"
   ]
  },
  {
   "cell_type": "code",
   "execution_count": 10,
   "metadata": {},
   "outputs": [
    {
     "name": "stdout",
     "output_type": "stream",
     "text": [
      "5773.065067280128\n",
      "nan\n",
      "5470.435854398586\n",
      "8828.43881617435\n"
     ]
    }
   ],
   "source": [
    "print(np.mean(radio(dist1,angulochillan14  )  ))\n",
    "print(np.mean(radio(dist1,anguloconce14  )  ))\n",
    "print(np.mean(radio(dist1,angulovic14  )  ))\n",
    "\n",
    "print(np.mean(radio(dist1,angulochiu14  )  ))\n"
   ]
  },
  {
   "cell_type": "markdown",
   "metadata": {},
   "source": [
    "grafico de llas 12.00"
   ]
  },
  {
   "cell_type": "code",
   "execution_count": 11,
   "metadata": {},
   "outputs": [
    {
     "name": "stdout",
     "output_type": "stream",
     "text": [
      "15 15 15\n"
     ]
    }
   ],
   "source": [
    "#grafico de las 12.00\n",
    "datosJB12=np.genfromtxt('medJB.txt',usecols=(1,6) )\n",
    "\n",
    "datosJY12=np.genfromtxt('medJY.txt',usecols=(1,6),skip_footer=5 )\n",
    "\n",
    "datosL12=np.genfromtxt('medL.txt',usecols=(1,6)  ) #cambie los footer y headcher\n",
    "\n",
    "datosP12=np.genfromtxt('medP.txt',usecols=(1,6)  )\n",
    "\n",
    "print(len(datosJY12),len(datosJB12),len(datosL12))\n"
   ]
  },
  {
   "cell_type": "code",
   "execution_count": 12,
   "metadata": {},
   "outputs": [],
   "source": [
    "#datos JY angulo en radianes\n",
    "angulochiu12=     np.arctan(  datosJY12[:,0]  /  datosJY12[:,1]  )\n",
    "\n",
    "#datos JB en radianes\n",
    "angulochillan12=  np.arctan(  datosJB12[:,0]  /  datosJB12[:,1]  )\n",
    "\n",
    "#datos L en radianes\n",
    "anguloconce12=    np.arctan(  datosL12[:,0] /  datosL12[:,1] )\n",
    "\n",
    "#datos P en radianes\n",
    "angulovic12=    np.arctan(  datosP12[:,0] /  datosP12[:,1] )\n",
    "\n",
    "\n",
    "\n"
   ]
  },
  {
   "cell_type": "code",
   "execution_count": 13,
   "metadata": {},
   "outputs": [],
   "source": [
    "#radios \n",
    "radiocc12=radio(dist1,abs( angulochiu12-angulochillan12 ))\n",
    "radiocc112=radio(dist2,abs( angulochillan12 - anguloconce12 ))\n",
    "radioconchi12=radio(dist3,abs( anguloconce12 - angulochiu12 ))\n",
    "radioviccon12=radio(dist5,abs(anguloconce12 - angulovic14))\n",
    "radiovicchi12=radio(dist6, abs( angulovic12 - angulochillan12  ))\n",
    "radiochiuvic12= radio( dist4, abs( angulochiu12 - angulovic12  ) )"
   ]
  },
  {
   "cell_type": "code",
   "execution_count": 14,
   "metadata": {},
   "outputs": [
    {
     "data": {
      "image/png": "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",
      "text/plain": [
       "<Figure size 432x288 with 1 Axes>"
      ]
     },
     "metadata": {
      "needs_background": "light"
     },
     "output_type": "display_data"
    }
   ],
   "source": [
    "plt.scatter(x15,radiocc112,marker='+',c='black')\n",
    "plt.scatter(x15,radiocc12,marker='s',c='blue')\n",
    "plt.scatter(x15,radioconchi12,marker='v',c='red')\n",
    "plt.scatter(x15,radioviccon12)\n",
    "plt.scatter(x15,radiovicchi12)\n",
    "plt.scatter(x15,radiochiuvic12)\n",
    "#plt.axis([0,16,0,10000])\n",
    "plt.ylabel('radio calculado de la tierra')# nose que ponerle\n",
    "plt.xlabel('numero de medición')\n",
    "plt.title('hora de medicion: 12.00 horas') # poner hora bien\n",
    "plt.show()"
   ]
  },
  {
   "cell_type": "code",
   "execution_count": 15,
   "metadata": {},
   "outputs": [
    {
     "name": "stdout",
     "output_type": "stream",
     "text": [
      "nan\n",
      "nan\n",
      "3532.8390682753065\n",
      "5550.715283648056\n"
     ]
    }
   ],
   "source": [
    "print(np.mean(radio(dist1,angulochillan12  )  ))\n",
    "print(np.mean(radio(dist1,anguloconce12  )  ))\n",
    "print(np.mean(radio(dist1,angulovic12  )  ))\n",
    "\n",
    "print(np.mean(radio(dist1,angulochiu12  )  ))\n",
    "\n",
    "\n"
   ]
  },
  {
   "cell_type": "markdown",
   "metadata": {},
   "source": [
    "grafico de las 10"
   ]
  },
  {
   "cell_type": "code",
   "execution_count": 16,
   "metadata": {},
   "outputs": [],
   "source": [
    "#grafico de las 12.00\n",
    "datosJB10=np.genfromtxt('medJB.txt',usecols=(0,5) )\n",
    "\n",
    "datosJY10=np.genfromtxt('medJY.txt',usecols=(0,5),skip_footer=5 )\n",
    "\n",
    "datosL10=np.genfromtxt('medL.txt',usecols=(0,5)  ) #cambie los footer y headcher\n",
    "\n",
    "datosP10=np.genfromtxt('medP.txt',usecols=(3,8)  )\n",
    "\n",
    "\n"
   ]
  },
  {
   "cell_type": "code",
   "execution_count": 17,
   "metadata": {},
   "outputs": [],
   "source": [
    "#datos JY angulo en radianes\n",
    "angulochiu10=     np.arctan(  datosJY12[:,0]  /  datosJY12[:,1]  )\n",
    "\n",
    "#datos JB en radianes\n",
    "angulochillan10=  np.arctan(  datosJB12[:,0]  /  datosJB12[:,1]  )\n",
    "\n",
    "#datos L en radianes\n",
    "anguloconce10=    np.arctan(  datosL12[:,0] /  datosL12[:,1] )\n",
    "\n",
    "#datos P en radianes\n",
    "angulovic10=    np.arctan(  datosP10[:,0] /  datosP10[:,1] )"
   ]
  },
  {
   "cell_type": "code",
   "execution_count": 18,
   "metadata": {},
   "outputs": [],
   "source": [
    "#radios \n",
    "radiocc10=radio(dist1,abs( angulochiu10-angulochillan10 ))\n",
    "radiocc110=radio(dist2,abs( angulochillan10 - anguloconce10 ))\n",
    "radioconchi10=radio(dist3,abs( anguloconce10 - angulochiu10 ))\n",
    "radioviccon10=radio(dist5,abs(anguloconce10 - angulovic10))\n",
    "radiovicchi10=radio(dist6, abs( angulovic10 - angulochillan10  ))\n",
    "radiochiuvic10= radio( dist4, abs( angulochiu10 - angulovic10  ) )"
   ]
  },
  {
   "cell_type": "code",
   "execution_count": 19,
   "metadata": {},
   "outputs": [
    {
     "data": {
      "image/png": "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",
      "text/plain": [
       "<Figure size 432x288 with 1 Axes>"
      ]
     },
     "metadata": {
      "needs_background": "light"
     },
     "output_type": "display_data"
    }
   ],
   "source": [
    "plt.scatter(x15,radiocc110,marker='+',c='black')\n",
    "plt.scatter(x15,radiocc10,marker='s',c='blue')\n",
    "plt.scatter(x15,radioconchi10,marker='v',c='red')\n",
    "plt.scatter(x15,radioviccon10)\n",
    "plt.scatter(x15,radiovicchi10)\n",
    "plt.scatter(x15,radiochiuvic10)\n",
    "#plt.axis([0,16,0,10000])\n",
    "plt.ylabel('radio calculado de la tierra')# nose que ponerle\n",
    "plt.xlabel('numero de medición')\n",
    "plt.title('hora de medicion: 10.00 horas') # poner hora bien\n",
    "plt.show()"
   ]
  },
  {
   "cell_type": "code",
   "execution_count": 20,
   "metadata": {},
   "outputs": [
    {
     "name": "stdout",
     "output_type": "stream",
     "text": [
      "nan\n",
      "nan\n",
      "21619.859081628183\n",
      "5550.715283648056\n",
      "nan\n",
      "nan\n",
      "5470.435854398586\n",
      "5550.715283648056\n"
     ]
    }
   ],
   "source": [
    "print(np.mean(radio(dist1,angulochillan10  -angulochiu10)  ))\n",
    "print(np.mean(radio(dist1,anguloconce10 -angulochiu10 )  ))\n",
    "print(np.mean(radio(dist1,-1*(angulovic10 - angulochiu10 ) )  ))\n",
    "\n",
    "print(np.mean(radio(dist1,angulochiu10  )  ))\n",
    "print(np.mean(radio(dist1,angulochillan10  )  ))\n",
    "print(np.mean(radio(dist1,anguloconce10 )  ))\n",
    "print(np.mean(radio(dist1,angulovic10  )  ))\n",
    "\n",
    "print(np.mean(radio(dist1,angulochiu10  )  ))"
   ]
  },
  {
   "cell_type": "code",
   "execution_count": 21,
   "metadata": {},
   "outputs": [],
   "source": [
    "#grafico de las 13.00\n",
    "datosJB13=np.genfromtxt('medJB.txt',usecols=(2,7) )\n",
    "\n",
    "datosJY13=np.genfromtxt('medJY.txt',usecols=(2,7),skip_footer=5 )\n",
    "\n",
    "datosL13=np.genfromtxt('medL.txt',usecols=(2,7)  ) #cambie los footer y headcher\n",
    "\n",
    "datosP13=np.genfromtxt('medP.txt',usecols=(2,7)  )\n"
   ]
  },
  {
   "cell_type": "code",
   "execution_count": 22,
   "metadata": {},
   "outputs": [],
   "source": [
    "#datos JY angulo en radianes\n",
    "angulochiu13=     np.arctan(  datosJY13[:,0]  /  datosJY13[:,1]  )\n",
    "\n",
    "#datos JB en radianes\n",
    "angulochillan13=  np.arctan(  datosJB13[:,0]  /  datosJB13[:,1]  )\n",
    "\n",
    "#datos L en radianes\n",
    "anguloconce13=    np.arctan(  datosL13[:,0] /  datosL13[:,1] )\n",
    "\n",
    "#datos P en radianes\n",
    "angulovic13=    np.arctan(  datosP13[:,0] /  datosP13[:,1] )"
   ]
  },
  {
   "cell_type": "code",
   "execution_count": 23,
   "metadata": {},
   "outputs": [],
   "source": [
    "#radios \n",
    "radiocc13=radio(dist1,abs( angulochiu13-angulochillan13 ))\n",
    "radiocc113=radio(dist2,abs( angulochillan13 - anguloconce13 ))\n",
    "radioconchi13=radio(dist3,abs( anguloconce13 - angulochiu13 ))\n",
    "radioviccon13=radio(dist5,abs(anguloconce13 - angulovic13))\n",
    "radiovicchi13=radio(dist6, abs( angulovic13 - angulochillan13  ))\n",
    "radiochiuvic13= radio( dist4, abs( angulochiu13 - angulovic13  ) )"
   ]
  },
  {
   "cell_type": "code",
   "execution_count": 24,
   "metadata": {},
   "outputs": [
    {
     "data": {
      "image/png": "iVBORw0KGgoAAAANSUhEUgAAAZIAAAEWCAYAAABMoxE0AAAAOXRFWHRTb2Z0d2FyZQBNYXRwbG90bGliIHZlcnNpb24zLjMuNCwgaHR0cHM6Ly9tYXRwbG90bGliLm9yZy8QVMy6AAAACXBIWXMAAAsTAAALEwEAmpwYAAAsJklEQVR4nO3de5xcVZnv/883NxJD0uESyI0YEIgCBoHARJnxqFFgjEDUEIMgyHBkDsNIxgtqjj8x4nEEuRlUcECF4CAaIyKQ4WYkcFAQE+IkInI53HInQNIJIYFcnt8fezWp7lRX7+7q3dWVfN+vV72qau29Vz11289ea+2LIgIzM7OO6lHrAMzMrL45kZiZWVWcSMzMrCpOJGZmVhUnEjMzq4oTiZmZVcWJxCqS9JykD9Y6DgBJn5b0YK3jaKllXJJelXRAG8uMTPP1LD7C7qk7/basOk4kZp0sInaPiGfamOeFNN/WouOR9E1JiyVtkTS9xbT3p2lrJb0s6deShleoa5Sk+yS9JulvLROBpE9Kel7SBkm3StqzoLdl3YgTiXUJSb1qHcMu7GngS8CcMtP+ChwfEYOAYcBTwDUV6roZWAjsBXwVmC1pMICkQ4H/AD4F7Au8BlzdOW+hdf5t1Z4TieXxLkmLJDVK+oWkvk0TJH1G0tOSXpF0m6RhJdNC0nmSniJbQSFphqQlktZJWiDpH1p7UUl7pTrXSXoEeFuL6W+XdG967SckTa5Q1zxJ/0fSH1KX0u2p/ptS/X+SNCpP3TniCkkHpsf9JF2ettIbJT2Yykal+Xql+YalOl9Jn+dnSuqbLmmWpBslrZf0mKSxrX9dzUXEzIi4E1hfZtqqiFheUrQVOLCVz/Bg4Ejg6xGxMSJ+BSwGPp5mOQ24PSIeiIhXga8BH5M0oEJ4XfLbknSMpPlp2ipJV1T80Kx9IsI331q9Ac8Bj5Btre4JPA78rzTtA8BLZCuX3YDvAQ+ULBvAvWm5fqnsdLKt2V7AF4CVQN9WXvvnwCygP3AYsAx4ME3rDywBzkp1HZliObSVuuaRbZm/DWgg2xJ/EvhgWv5G4Po8dVeKq+R9H5ge/yC99nCgJ/Ce9FmNSvP1SvPdT7b13hd4F7AaGJ+mTQc2AR9OdXwbeLjk9a4Grs7xXf4nML1M+UhgLbAN2Ax8upXlPwo83qLs+8D30uPfAF9uMf1V4Kha/7aAh4BPpce7A+Nq/d/amW41D8C37n1Lf/bTS55/B/hhevxj4Dsl03ZPK6JR6XkAH2ij/jXA4WXKe6a63l5S9u9sTySfAP5vi2X+g2xrudzrzAO+WvL8cuDOkucnAn9uq+624ip53weStfg3tvL+RqX5egH7kbUEBpRM/zZwQ3o8HfhtybRDgI0d+C7LJpKS6XsCX25tJUvWZfVwi7JvlcQ5tykRlExfBryv1r8t4AHgG8DeXfXf2ZVu7tqyPFaWPH6N7E8N2Zbk800TIuvOeJls67vJktKKJH1B0uOpK2MtWetg7zKvOZhsJVu6/PMlj98K/F0aJF6b6joNGFLhfawqebyxzPOm91Wp7rbiKrU3WQvj/1WICbLP8ZWIKO16ep7mn2PL76BvZ48NRMQrwEzgN63U/SowsEXZQLZ3mbU1vZyu+m2dDRwM/C11Y36kQkzWTh6ksmosJ1vpAiCpP1nXwrKSeaJk+j+QbfGOBx6LiG2S1gAqU/dqYAvZ1vrfUtnIkulLgPsj4kOd8D5aarVuZbvrVoqr1EtkXVJvA/67wustB/aUNKAkmYyk+efYVXoB+5AlgFdaTHsMOKBFnIcDPyuZfnjTzMp2gd6NrAuxvTr1txURTwGnSuoBfIxsJ4G9ImJDB2KzFtwisWr8DDhL0rsk7UbWxfPHiHiulfkHkK2EVwO9JF3IjluwAES2W+wtwHRJb5F0CHBmySx3AAdL+pSk3ul2tKR3dML7arXuHHGVvodtwE+AK9Jgek9J706fVel8S4A/AN+W1FfSGLIt6Js64b2Q4u9L9n/vlV6jZ5r2MUmjJfVQtvfVFcDC1Dpp+X6eBP4MfD3V8VFgDPCrNMtNwImS/iGt+C8CbmnR0sqrU39bkk6XNDh9J2tTceG7Xu8qnEiswyJiLtmeOb8CVpBteU+psMjdwJ1kW6jPk22tL6kw/7+SdXWsBG4Ari957fXAcen1lqd5LiHbAq5KjrpbjauML5Lt2fQnsi38Syj/vzuVbNxkOfBrsrGee/PEK+mHkn5YYZbryLruTiXbZXcj2XgHZF1Fd5F1Py0mG3D/aIW6pwBjycYfLgYmRcRqgIh4DPhfZAnlRbKV+7/keQ8tFfDbOgF4TNKrwAxgSkRs6khstiOlgSgzM7MOcYvEzMyq4kRiZmZVcSIxM7OqOJGYmVlVdrnjSPbee+8YNWpUrcMwM6srCxYseCkiBpebtsslklGjRjF//vxah2FmVlcktXYGB3dtmZlZdZxIzMysKk4kZmZWFScSMzOrihOJmZlVxYnEzLqHRbPgysNg+qDsftGsWkdkOe1yu/+aWTe0aBbcfj5s3pg9b1ySPQcYM7l2cVkubpGYWe3NvWh7EmmyeWNWbt2eE4mZ1V7j0vaVW7fiRGJmtdcwon3l1q04kZhZ7Y2/EHr3a17Wu19Wbt2eE4mZ1d6YyXDiVdCwH6Ds/sSrPNBeJ7zXlpl1D2MmO3HUKbdIzMysKk4kZmZWFScSMzOrihOJmZlVxYnEzMyq4kRiZmZVcSIxM7OqOJGYmVlVnEjMzKwqTiRmZlYVJxIzM6uKE4mZmVXFicTMzKriRGJmZlVxIjEzs6o4kZiZWVUKTSSSPifpMUl/kXSzpL6S9pR0r6Sn0v0eJfNPk/S0pCckHV9SfpSkxWnaVZKUyneT9ItU/kdJo4p8P2ZmtqPCEomk4cD5wNiIOAzoCUwBvgLMjYiDgLnpOZIOSdMPBU4ArpbUM1V3DXAOcFC6nZDKzwbWRMSBwJXAJUW9HzMzK6/orq1eQD9JvYC3AMuBk4GZafpMYGJ6fDLw84h4PSKeBZ4GjpE0FBgYEQ9FRAA3tlimqa7ZwPim1oqZmXWNwhJJRCwDLgNeAFYAjRFxD7BvRKxI86wA9kmLDAeWlFSxNJUNT49bljdbJiK2AI3AXi1jkXSOpPmS5q9evbpz3qCZmQHFdm3tQdZi2B8YBvSXdHqlRcqURYXySss0L4i4NiLGRsTYwYMHVw7czMzapciurQ8Cz0bE6ojYDNwCvAdYlbqrSPcvpvmXAvuVLD+CrCtsaXrcsrzZMqn7rAF4pZB3Y2ZmZRWZSF4Axkl6Sxq3GA88DtwGnJnmORP4TXp8GzAl7Ym1P9mg+iOp+2u9pHGpnjNaLNNU1yTgd2kcxczMukivoiqOiD9Kmg08CmwBFgLXArsDsySdTZZsTknzPyZpFvDXNP95EbE1VXcucAPQD7gz3QB+DPxU0tNkLZEpRb0fMzMrT7vaBvzYsWNj/vz5tQ7DzKyuSFoQEWPLTfOR7WZmVhUnEjMzq4oTiZmZVcWJxMzMqpJrry1JE8jOgdW3qSwiLioqKDMzqx9ttkgk/RD4BPBZsiPJTwHeWnBcZmZWJ/J0bb0nIs4gO8vuN4B30/wIdDMz24XlSSSb0v1rkoYBm8nOn2VmZpZrjOR2SYOAS8mOUg/guiKDMjOz+lExkUjqQXYRqrXAryTdAfSNiMauCM7MzLq/il1bEbENuLzk+etOImZmVirPGMk9kj7uKw+amVk5ecZIPg/0B7ZI2kS2C3BExMBCIzMzs7qQZ4zkhIj4fRfFY2ZmdSbPGMllXRSLmZnVIY+RmJlZVdozRrJV0kY8RmJmZiXaTCQRMaArAjEzs/qU56SNknS6pK+l5/tJOqb40MzMrB7kGSO5muxEjZ9Mz18FflBYRGZmVlfyjJH8XUQcKWkhQESskdSn4LjMzKxO5GmRbJbUk+xkjUgaDGwrNCozM6sbeRLJVcCvgX0kfQt4EPj3QqMyM7O6kWevrZskLQDGk+36OzEiHi88MjMzqwutJhJJAyNinaQ9gReBm0um7RkRr3RFgGZm1r1VapH8DPgIsIA0PpIoPT+gwLjMzKxOtJpIIuIj6d6X1TUzs1blOSBxbp4yMzPbNVUaI+kLvAXYW9IeZF1aAAOBYV0Qm5mZ1YFKYyT/DPwbWdJYwPZEsg4f2W5mZkmlMZIZwAxJn42I73VhTGZmVkfaHCNxEjEzs0ryHNluZmbWKicSMzOrSq5EImkPScdIem/TLedygyTNlvQ3SY9LerekPSXdK+mpdL9HyfzTJD0t6QlJx5eUHyVpcZp2VdNlfyXtJukXqfyPkka18/2bmVmV8hxH8j+BB4C7gW+k++k5658B3BURbwcOBx4HvgLMjYiDgLnpOZIOAaYAhwInAFensw4DXAOcAxyUbiek8rOBNRFxIHAlcEnOuMzMrJPkaZFMBY4Gno+I9wNHAKvbWkjSQOC9wI8BIuKNiFgLnAzMTLPNBCamxycDP4+I1yPiWeBp4BhJQ4GBEfFQRARwY4tlmuqaDYxvaq2YmVnXyJNINkXEJsi6kiLib8DoHMsdQJZwrpe0UNKPJPUH9o2IFQDpfp80/3BgScnyS1PZ8PS4ZXmzZSJiC9AI7JUjNjMz6yR5EslSSYOAW4F7Jf0GWJ5juV7AkcA1EXEEsIHUjdWKci2JqFBeaZnmFUvnSJovaf7q1W02pszMrB3yHEfy0YhYGxHTga+RdVVNzFH3UmBpRPwxPZ9NllhWpe4q0v2LJfPvV7L8CLKEtTQ9blnebBlJvYAGYIfT20fEtRExNiLGDh48OEfoZmaWV6uJJO1d1ewGLCa7QuLubVUcESuBJZKausHGA38FbgPOTGVnAr9Jj28DpqQ9sfYnG1R/JHV/rZc0Lo1/nNFimaa6JgG/S+MoZmbWRSqda6vpOiSl3UdNz/Nej+SzwE2S+gDPAGeRJa9Zks4GXgBOAYiIxyTNIks2W4DzImJrqudc4AagH3BnukHWOvqppKfJWiJTcsRkZmadSLvaBvzYsWNj/vz5tQ7DzKyuSFoQEWPLTfOR7WZmVhUnEjMzq4oTiZmZVSXvubb+XtJZ6fHgtFeVmZlZrnNtfR34MjAtFfUG/rPIoMzMrH7kaZF8FDiJ7Mh0ImI5MKDIoMzMrH7kSSRvpIP8AiCdL8vMzAzIl0hmSfoPYJCkzwC/Ba4rNiwzM6sXlY5sByAiLpP0IWAd2Vl/L4yIewuPzMzM6kKbiQQgJQ4nDzMz20GriUTSesqckr1JRAwsJCIzM6srrSaSiBgAIOkiYCXwU7ITNp6G99oyM7Mkz2D78RFxdUSsj4h1EXEN8PGiAzMzs/qQJ5FslXSapJ6Sekg6Ddja5lJmZrZLyJNIPglMBlal2ympzMzMLNfuv88BJxcfipmZ1SOf/dfMzKriRGJmZlVxIjEzs6rkOY18g6QrJc1Pt8slNXRFcGZm1v3laZH8hOw8W5PTbR1wfZFBmZlZ/chzrq23RUTpAYjfkPTnguIxM7M6k6dFslHS3zc9kXQssLG4kMzMrJ7kaZGcC8xM4yICXgE+XWRQZmZWP/IckPhn4HBJA9PzdUUHZWZm9aPSaeQ/30o5ABFxRUExmZlZHanUImk6Vfxo4GjgtvT8ROCBIoMyM7P6Uel6JN8AkHQPcGRErE/PpwO/7JLozMys28uz19ZI4I2S528AowqJxszM6k6evbZ+Cjwi6ddkl979KHBjoVGZmVndyLPX1rck3QU0HUtyVkQsLDYsMzOrF3laJETEAklLgL4AkkZGxAuFRmZmZnUhz0kbT5L0FPAscH+6v7PowMzMrD7kGWz/JjAOeDIi9gc+CPy+0KjMzKxu5EkkmyPiZaCHpB4RcR/wrmLDMjOzepEnkayVtDvZQYg3SZoBbMn7ApJ6Sloo6Y70fE9J90p6Kt3vUTLvNElPS3pC0vEl5UdJWpymXaV0eL2k3ST9IpX/UdKovHGZmVnnyJNITiY72+/ngLuA/0d2dHteU4HHS55/BZgbEQcBc9NzJB0CTAEOBU4ArpbUMy1zDXAOcFC6nZDKzwbWRMSBwJXAJe2Iy8zMOkGbiSQiNkTE1ojYEhEzI+Kq1NXVJkkjgAnAj0qKTwZmpsczgYkl5T+PiNcj4lngaeAYSUOBgRHxUEQE2TEsE8vUNRsY39RaMTOzrlHppI3ryQ5A3GESEBExMEf93wW+xPbzdgHsGxEryCpZIWmfVD4ceLhkvqWpbHN63LK8aZklqa4tkhqBvYCXWryXc8haNIwcOTJH2GZmllerLZKIGBARA8vcBuRJIpI+ArwYEQtyxlKuJREVyist07wg4tqIGBsRYwcPHpwzHDMzy6PNAxIlld2Ez3FA4rHASZI+THYg40BJ/wmskjQ0tUaGAi+m+ZcC+5UsPwJYnspHlCkvXWappF5AA9mFt8zMrIvkGWyfU3KbCzxDjgMSI2JaRIyIiFFkg+i/i4jTyU5Hf2aa7UzgN+nxbcCUtCfW/mSD6o+kbrD1ksal8Y8zWizTVNek9BrluuPMzKwgec619c7S55KOBP65ite8GJgl6WzgBeCU9DqPSZoF/JVs9+LzImJrWuZc4AagH1kSa0pkPwZ+KulpspbIlCriMjOzDlBHNuAlPRoRRxYQT+HGjh0b8+fPr3UYZmZ1RdKCiBhbblqeMZLSS+72AI4EVndSbGZmVufynP23dNfdLWRjJb8qJhwzM6s3ecZIvtEVgZiZWX3Kcxr5eyUNKnm+h6S7C43KzMzqRp7dfwdHxNqmJxGxBtin9dnNzGxXkieRbC09KFHSWyl/6hQzM9sF5Rls/yrwoKT70/P3ks5bZWZmlmew/a50EOI4snNbfS4iXmpjMTMz20VUOvtvywMOm85vNVLSyIh4tLiwzMysXlRqkVxeYVoAH+jkWMzMrA61mkgi4v1dGYiZmdWnPIPtSDoMOITsdPAARMSNRQVlZmb1I8+5tr4OvI8skfwX8I/Ag2SXvDUzs11cnuNIJgHjgZURcRZwOLBboVGZmVndyJNINkbENmCLpIFkVzQ8oNiwzMysXuQZI5mfzrV1HbAAeBV4pMigzMysfuQ5IPFf0sMfSroLGBgRi4oNy8ys+7p14TIuvfsJlq/dyLBB/bjg+NFMPGJ4rcOqmTxn//2opAaAiHgOeEHSxILjMjPrlm5duIxptyxm2dqNBLBs7Uam3bKYWxcuq3VoNZNnjOTrEdHY9CSdCfjrhUVkZtaNXXr3E2zcvLVZ2cbNW7n07idqFFHt5Ukk5ebJdfyJmdnOZvnaje0q3xXkSSTzJV0h6W2SDpB0Jdmgu5nZLmfYoH7tKt8V5EkknwXeAH4BzAI2AucVGZSZWXd1wfGj6de7Z7Oyfr17csHxo2sUUe3l2WtrA/CVLojFrPtbNAvmXgSNS6FhBIy/EMZMrnVU1oWa9s7yXlvbeazDLK9Fs+D282Fz6gtvXJI9ByeTXczEI4bv0omjpTxdW2YGWUtkc4sB1c0bs3KzXZgTiVlejUvbV262i8hzQOIISb+WtFrSKkm/kjSiK4Iz61YaWvnZt1ZutovI0yK5HrgNGAoMB25PZWa7lvEXQu8Wu3j27peVm+3C8iSSwRFxfURsSbcbgMEFx2XW/YyZDCdeBQ37AcruT7zKA+22y8uz19ZLkk4Hbk7PTwVeLi4ks25szGQnDrMW8rRI/gmYDKwEVpBd6OqfigzKzMzqR54DEl8ATuqCWMzMrA61mkgkfSkiviPpe0C0nB4R5xcamZmZ1YVKLZLH0/38rgjEzMzqU6uJJCJuT/czO1KxpP2AG4EhwDbg2oiYIWlPshNAjgKeAyZHxJq0zDTgbGArcH5E3J3KjwJuAPoB/wVMjYiQtFt6jaPIdgD4RLr4lpmZdZFKXVu3U6ZLq0lEtDVusgX4QkQ8KmkAsEDSvcCngbkRcbGkr5CdEPLLkg4BpgCHAsOA30o6OCK2AtcA5wAPkyWSE4A7yZLOmog4UNIU4BLgEznet5mZdZJKe21dBlwOPEt26vjr0u1V4C9tVRwRKyLi0fR4PVlX2XDgZKCplTMTmJgenwz8PCJej4hngaeBYyQNJbtO/EMREWQtkNJlmuqaDYyXpLZiMzOzzlOpa+t+AEnfjIj3lky6XdID7XkRSaOAI4A/AvtGxIr0Gisk7ZNmG07W4miyNJVtTo9bljctsyTVtUVSI7AX8FJ74jMzs47LdWS7pAOankjan3Yc2S5pd+BXwL9FxLpKs5YpiwrllZZpGcM5kuZLmr969eq2QjYzs3bIk0g+B8yTNE/SPOA+4N/yVC6pN1kSuSkibknFq1J3Fen+xVS+FNivZPERwPJUPqJMebNlJPUCGoBXWsYREddGxNiIGDt4sM/uYmbWmdpMJBFxF3AQMDXdRjftTVVJGqv4MfB4RFxRMuk24Mz0+EzgNyXlUyTtllo9BwGPpG6w9ZLGpTrPaLFMU12TgN+lcRQzM+siea+QeBAwGugLHC6JiLixjWWOBT4FLJb051T2v4GLgVmSzgZeAE4BiIjHJM0C/kq2x9d5aY8tgHPZvvvvnekGWaL6qaSnyVoiU3K+HzMz6yRqawNe0teB9wGHkO16+4/AgxExqfDoCjB27NiYP9/HWJqZtYekBRExtty0PGMkk4DxwMqIOAs4HNitE+MzM7M6lieRbIyIbcAWSQPJBscPaGMZMzPbReQZI5kvaRDZwYgLyA5IfKTIoMzMrH5UTCRpL6lvR8Ra4IeS7iI7ynxRVwRnZmbdX8WurbQr7a0lz59zEjEzs1J5xkgelnR04ZGYmVldyjNG8n7gnyU9D2wgOy1JRMSYQiMzM7O6kCeR/GPhUZiZWd3Kc83257siEDMzq095xkjMzMxa5UTShoEDQdrxNnBgrSMzM+senEjasH59+8rNzHY1TiRmZlaVvKeRNzOzOnXrwmVcevcTLF+7kWGD+nHB8aOZeMTwthfMyYnErMbmPDOHGY/OYOWGlQzpP4SpR05lwgETah2W7SRuXbiMabcsZuPm7PJOy9ZuZNotiwE6LZm4a8ushuY8M4fpf5jOig0rCIIVG1Yw/Q/TmfPMnKrq9U4imTnPzOG42ccxZuYYjpt9XNWfK9TfZ3vp3U+8mUSabNy8lUvvfqLTXsOJpA0DBrSv3GqvyD96Z6+YZjw6g01bNzUr27R1EzMenVFVvd5JpLgkvX49NIybw8GXHceh14/h4MuOo2HcnG772S5fu7Fd5R3hrq02rFtX6wisvZr+6PtOmkHvvVay+eUhrJo9lcaHq+suGvL+Oex16nR67Jat+FdsWMGXfjuds2+Glfd1rO6VG1a2q7w9ivgMBg4sn4wGDOh+/5VKSbqarsOGcXMYftb230GfvVcw/KzpaWrH6y3qs92yrh89B+6YNLas69fxSltwi8R2Ok1/9D57r0CKN//oDeOq2xJt+MiMN1ceTXrstomGj3S89TCk/5B2ledV1GdQZEuns1t7RSXpoyZdUPZ3cNSkC6qqt6jP9pV5o9m2uWezsm2be/LKvNHVVVzCiaRGBg6EQe+ew+jLj+OwG8Yw+vLjGPTuOd22n7We+oX3nVR+hb/vpOq6i3rvVX4F1Fp5Hot+MJVtr/dtVrbt9b4s+sHUDtcJxX0GRRny/jl86bfNu6G+9NvpDHl/x5NJUUn6xb16tqu8Pcp1mVXrtceH8/Kd72RLYz8iYEtjP16+85289njn7bXlRJJDEQN2PQ4tv8XY49DuOchaxNZSUbEWscIH2Pxy+RVQa+V5rJo3gWXXT+eNl4YSId54aSjLrp/OqnnVdUEV9RkUpYjWXlFJeuvL+7SrPK+iWpFLGMGshkM55MBzaXjHlznkwHOZ1XAoSxhRVb2lPEbShqYBu6a+1qYBO6CqftbKW4wdr7eo8YEiFNWU3/zyEPrsvaJseTVWzZ7arG8cshXTqtlT4Qsdr7fx4Qmd/v1sXTOEXnvu+BlsXVPdZ1CUIhLfqnkT2LSJTv8vvHLH5xl22jQ2947tcW4Wq+/4fFW/g6LWCZeNG8fvz3qcTbtl7YYVe/dh+lnDOZZ38N2Oh9uMWyRtKGqvmqK2GIvaqmmqu7Ob3UVovKP8lmjjHdVtiTY+XL710B2T9GUnT6Vvz+afQd+efbns5Oo+Ayjmd1BEaw+y7+zJL97DY2ct4skv3tMp39XKGRv45rq1DN28BUUwdPMWvrluLStnbKiq3qLWCfdMWvNmEmmyabce3DNpTVX1lnKLpA1FDdj1WTeQzQ2NZcurUdRWTVF7qhTRelp53wTmzHuYGc/8mpU9YMg2mHrwCUzo4J5VTQYMKN96qHZX8FMPm8W/j7+IkQ1LeaFxBP977oXc/JfJVdXZ1Fru7AMd931f8z3Xmn4HfftCNb+Dolp7hZh7ERPWNTJhXeMO5Yzp+PdWVCuyx16r21XeEU4kbRjSfwgrNuz45VY7YHf+mrX8YECwqcf2LYW+27Zx3pq1VdVb1FZNEQmqqOTEollM+P11TNhcssvjiutgz3dW9UcvYvfWUw+bxXUnnk//PlmsowYt4boTz09Tq08mnX2E/JjzZrBiw46/gzHnVbeh0pSc66FLlsal7SvP6bKTpzbrRoesFTm9ylbksN3Lr8OG7d553Zzu2mrD1CPLdxFMPbK6L/eMbUuZ/tIrzZrH0196hTO2VfdjLKqLoIgEVdieRXMvgs0t9pvfvDEr72Yu/tBFbyaRJv37bOTiD3VCrItmwZWHwfRB2f2iWVVXWVQLvam117IbqjNae89OPYytFw7i2amHceph1X8GNLQySN1aeU4TDpjA9PdMZ2j/oQgxtP9Qpr9netUbA0Wtw0q5RdKGoroIegwawYTGJUzY8FrzCYP2q6rexjumNut6gJLxgSq6CIrYqilsz6KCthiLMHJg+ZhaK89t0Sy4/fztCbVxSfYcqmqVFdVCL6K1d9bYWXzvQzu29rJuuCpae+MvbP7ZAvTul5VXqYhW5JvrsD9dwcqNqxjSb1+mHv35Tn0dt0hymHDABO6ZdA+LzlzEPZPu6ZwvYPyF2Y+vVCf8GFfeN4HvHHwCQ7dG1tLZGnzn4BM6fOR1kyK2alpLQlU3uQvaYixEUbEW1Crriq3bzvKTT5Zv7f3kk1W29sZMhhOvgob9AGX3J15VVYJ+UwGtSEjrsE/MZdGn/8I9n5jb6cnKLZJaafrRzb0o21JuGJElkWp/jAWNDxTRMpt6ZPk+4apXSgVuMXa6omItqFVWVAu9EEW2TMdM7pzEUeq9+8Dfb4I+yp43LoGf/0/413+FB16sru5Fszp/XVNCEdH2XDuRsWPHxvz582sdRnGuPCz7AbbUsB987i9dH08bCjuFesF/nE5VRKx19jsoRMGfwfve9z4A5s2bV3VdAHxtKPR8bcfyrf3hm8s7Xm/Lbk7INlba2YqStCAixpab5hbJzqbIrbACVnhF9AkDxWwxFqWIWOupVVaUevsMerZyNt5yyaU9KnVzdtLvzolkZ9MwopWtsCr73AsavK2rlkM9KarrFIr5zkaMgGXLdiwfPhyWdnAj6MOfhz1ehvF9oUHQGDD3Zbjm87C04/E2tUTuv//+Zs+rbpkU9d/tgp1PPNieR0EDYIUoaBC/kMHbpuTUuASI7cmpO3++9WTM5KwLZ/ra7L6zkkgR39lJJ0GfPs3L+vSBk0+urs4ne8CMV+Gi9dn9kz2qq7NI4y+EXs13ZKBX3+p3wNnUSnuhE3c+8RhJWzqpf7FLFbHFOH0QUO63omxF1RHux68/RX1nK1bAAQfAppLjivr1g2eegSEd3IuviDpLdPoYCWT/3V9OhR4bYNvucMp3q/7vfnPyGC4Y/QJ9e27//27aKvqecm2njZG4RdKWOjq47U1FbIkWsZtqHR3vYUlR39nQoXDWWdtbJX36ZM+rWeEXUWfBbt16LMf2ncn+m37GsX1ncuvWY6uu82uzFtH3lGtZuak32wJo2K/dSaQtdT9GIukEYAbQE/hRRFzcqS/glV2miIHLovqErTgFfme3nvIvfCeOZsXAvRm2/mUuOOVoJnbDOpt0aksEuHXhMqbdsji7vrrEsvVvMO2WxQBMPKLKa4eMmcyU868GOj9uqPMWiaSewA+AfwQOAU6VdEinvkg9HdxWpCIOwipqPMeKU9B3duvCZUz73VKWN+xDqAfLBg5m2twl3LqwzAB8Dess0qV3P5ElkRIbN2/l0ruf6JT6582bV0gSgTpPJMAxwNMR8UxEvAH8HOjckTSv7Lbr7C6zIo8QtmIU9J194cb7O30lWkSdRVq2pvxuvsvXtrJbcDdS711bw4HSdvZS4O9aziTpHOAcgJEjR7bvFYrcjdLq63gPyxTwnW3tU/7yCdWsRIuos0g931jH1t0adigfNqhfmbm7l3pPJCpTtsOuRRFxLXAtZHtttftVvLIzK9TwPd7CsjIr+GpWokXUWaTLz/gf28dIkn69e3LB8aNrGFU+9d61tRQoPV3uCKCKcwmYWS1ccPxo+vXu2ays2pVoEXUWaeIRw/n2x95Jz9cbIYLhg/rx7Y+9s/qB9i5Q7y2SPwEHSdofWAZMAT5Z25DMrL2aVpaX3v0Ey9duZNigflxw/OiqVqJF1Fm0iUcMZ+IR9bcKq/sDEiV9GPgu2e6/P4mIb1Waf6c/aaOZWQF26pM2RsR/Af9V6zjMzHZV9T5GYmZmNeZEYmZmVXEiMTOzqjiRmJlZVep+r632krQaeL7WcbSwN/BSrYNoh3qK17EWp57iradYoXvG+9aIGFxuwi6XSLojSfNb262uO6qneB1rceop3nqKFeovXndtmZlZVZxIzMysKk4k3cO1tQ6gneopXsdanHqKt55ihTqL12MkZmZWFbdIzMysKk4kZmZWFSeSGpK0n6T7JD0u6TFJU2sdU1sk9ZS0UNIdtY6lLZIGSZot6W/pM353rWNqjaTPpd/AXyTdLKlvrWMqJeknkl6U9JeSsj0l3SvpqXS/Ry1jbNJKrJem38EiSb+WNKiGITZTLt6SaV+UFJL2rkVseTmR1NYW4AsR8Q5gHHCepENqHFNbpgKP1zqInGYAd0XE24HD6aZxSxoOnA+MjYjDyC6JMKW2Ue3gBuCEFmVfAeZGxEHA3PS8O7iBHWO9FzgsIsYATwLTujqoCm5gx3iRtB/wIeCFrg6ovZxIaigiVkTEo+nxerIVXbe96o6kEcAE4Ee1jqUtkgYC7wV+DBARb0TE2poGVVkvoJ+kXsBb6GZX+oyIB4BXWhSfDMxMj2cCE7syptaUizUi7omILenpw2RXU+0WWvlsAa4EvkSZy4d3N04k3YSkUcARwB9rHEol3yX7YW+rcRx5HACsBq5PXXE/ktS/1kGVExHLgMvItjxXAI0RcU9to8pl34hYAdlGEbBPjePJ65+AO2sdRCWSTgKWRcR/1zqWPJxIugFJuwO/Av4tItbVOp5yJH0EeDEiFtQ6lpx6AUcC10TEEcAGuk/XSzNpbOFkYH9gGNBf0um1jWrnJOmrZF3KN9U6ltZIegvwVeDCWseSlxNJjUnqTZZEboqIW2odTwXHAidJeg74OfABSf9Z25AqWgosjYimFt5sssTSHX0QeDYiVkfEZuAW4D01jimPVZKGAqT7F2scT0WSzgQ+ApwW3fsAureRbVT8d/q/jQAelTSkplFV4ERSQ5JE1of/eERcUet4KomIaRExIiJGkQ0E/y4iuu1Wc0SsBJZIGp2KxgN/rWFIlbwAjJP0lvSbGE833TGghduAM9PjM4Hf1DCWiiSdAHwZOCkiXqt1PJVExOKI2CciRqX/21LgyPSb7pacSGrrWOBTZFv3f063D9c6qJ3IZ4GbJC0C3gX8e23DKS+1mmYDjwKLyf6X3eoUGZJuBh4CRktaKuls4GLgQ5KeItu76OJaxtiklVi/DwwA7k3/sx/WNMgSrcRbV3yKFDMzq4pbJGZmVhUnEjMzq4oTiZmZVcWJxMzMquJEYmbtIqm/pHMlef1hgBOJWU1IerWGr32DpEnp8Y8qnShU0kmSvlLyvBfZrrQPRkQ9nCrHuoB3/zWrgqReJScDbM9yr0bE7kXElOO1bwDuiIjZtXh92/m4RWJ1TdKodK2R69L1PO6R1C9NmydpbHq8dzrdBJI+LelWSbdLelbSv0r6fDq548OS9kzzvU3SXZIWSPq/kt6eym+QdIWk+4BLJL0rLdd0rYsdrsshaX9JD0n6k6Rvtph2QSpfJOkbrbzPVyVdkmL5raRj0vt7Jp3gr+laMZeW1PXPqVySvi/pr5LmUHJyxRaf0QmSHpX035LmlnxW30+P3yppbqp7rqSRJZ/HVZL+kOKZ1OEv1OqSE4ntDA4CfhARhwJrgY/nWOYw4JPAMcC3gNfSyR0fAs5I81wLfDYijgK+CFxdsvzBwAcj4gvAjcCX07UuFgNfL/N6M8hOIHk08OapLiQdl+I/huzo+6MkvbfM8v2BeSmW9cD/ITua/KPARWmes8nOHHw0cDTwGUn7p3lGA+8EPkOZ83hJGgxcB3w8Ig4HTikTw/eBG9P7vAm4qmTaUODvyc5l1S2OcLeu06vWAZh1gmcj4s/p8QJgVI5l7kvXgFkvqRG4PZUvBsYoOyPze4BfZqe/AmC3kuV/GRFbJTUAgyLi/lQ+E/hlmdc7lu0J7qfAJenxcem2MD3fnSyxPNBi+TeAu0pifD0iNktaXPJ+j0uxN7UIGlJd7wVujoitwHJJvysT3zjggYh4FiAiyl0f493Ax0rew3dKpt2axkz+KmnfMsvaTsyJxHYGr5c83gr0S4+3sL3V3fLStaXLbCt5vo3sf9EDWBsR72rlNTd0IM5yA5ICvh0R/9HGsptLzlj7ZrwRsS0NgDfV9dmIuLvZC2Tnb2trMFQ55mmpdP7Sz1MtZ7Sdm7u2bGf2HHBUetyufvt0XZhnJZ0Cb44zHF5mvkZgjaR/SEWfAu5vOR/we7ZfPve0kvK7gX9KLSAkDZfU0QtE3Q2cq+zSBEg6WNnFvB4ApqQxlKHA+8ss+xDwP1JXGE3jRC38ocV7eLCDcdpOxi0S25ldBsyS9CmgXHdOW04DrpH0/wG9ya7DUu6KdWcCP1R2QaJngLPKzDMV+JmkqWTXnwGyS8BKegfwUOpCexU4nY5d2+NHZN1cjyqrbDXZ5W9/DXyArEvsScokuohYLekc4BZlx4e8SDYGU+p84CeSLkh1l3uftgvy7r9mZlYVd22ZmVlVnEjMzKwqTiRmZlYVJxIzM6uKE4mZmVXFicTMzKriRGJmZlX5/wHSqAvB7eq4BgAAAABJRU5ErkJggg==",
      "text/plain": [
       "<Figure size 432x288 with 1 Axes>"
      ]
     },
     "metadata": {
      "needs_background": "light"
     },
     "output_type": "display_data"
    }
   ],
   "source": [
    "plt.scatter(x15,radiocc113,marker='+',c='black')\n",
    "plt.scatter(x15,radiocc13,marker='s',c='blue')\n",
    "plt.scatter(x15,radioconchi13,marker='v',c='red')\n",
    "plt.scatter(x15,radioviccon13)\n",
    "plt.scatter(x15,radiovicchi13)\n",
    "plt.scatter(x15,radiochiuvic13)\n",
    "#plt.axis([0,16,0,10000])\n",
    "plt.ylabel('radio calculado de la tierra')# nose que ponerle\n",
    "plt.xlabel('numero de medición')\n",
    "plt.title('hora de medicion: 13.00 horas') # poner hora bien\n",
    "plt.show()"
   ]
  },
  {
   "cell_type": "code",
   "execution_count": 25,
   "metadata": {},
   "outputs": [
    {
     "name": "stdout",
     "output_type": "stream",
     "text": [
      "5915.97461063725\n",
      "nan\n",
      "5744.672861773799\n",
      "23188.542599628952\n"
     ]
    }
   ],
   "source": [
    "print(np.mean(radio(dist1,angulochillan13   )  ))\n",
    "print(np.mean(radio(dist1,anguloconce13  )  ))\n",
    "print(np.mean(radio(dist4,angulovic13  )  ))\n",
    "\n",
    "print(np.mean(radio(dist1, angulochiu13 )  ))"
   ]
  },
  {
   "cell_type": "markdown",
   "metadata": {},
   "source": [
    "grafico 15"
   ]
  },
  {
   "cell_type": "code",
   "execution_count": 26,
   "metadata": {},
   "outputs": [
    {
     "name": "stdout",
     "output_type": "stream",
     "text": [
      "[[ 21.4  48.6]\n",
      " [ 28.8  60. ]\n",
      " [ 31.5  71.4]\n",
      " [ 38.7  84.6]\n",
      " [ 44.5 100.5]\n",
      " [ 24.3  49.6]\n",
      " [ 27.   60.8]\n",
      " [ 32.3  72.1]\n",
      " [ 36.1  84.6]\n",
      " [ 45.5  99.9]\n",
      " [ 24.8  49.3]\n",
      " [ 30.6  60.6]\n",
      " [ 35.6  71.6]\n",
      " [ 37.6  84.3]\n",
      " [ 46.7  99.2]] [[ 4.7 10.3]\n",
      " [ 3.6  7.5]\n",
      " [ 3.2  6.6]\n",
      " [ 2.3  5. ]\n",
      " [ 1.3  2.1]\n",
      " [ 4.2 10.3]\n",
      " [ 3.1  7.5]\n",
      " [ 2.8  6.6]\n",
      " [ 2.   5. ]\n",
      " [ 1.1  2.1]\n",
      " [ 4.3 10.3]\n",
      " [ 3.2  7.5]\n",
      " [ 2.8  6.6]\n",
      " [ 2.2  5. ]\n",
      " [ 1.   2.1]]\n"
     ]
    }
   ],
   "source": [
    "#grafico de las 15.00\n",
    "datosJB15=np.genfromtxt('medJB.txt',usecols=(4,9) )\n",
    "\n",
    "datosJY15=np.genfromtxt('medJY.txt',usecols=(4,9),skip_footer=5 )\n",
    "\n",
    "datosL15=np.genfromtxt('medL.txt',usecols=(4,9)  ) #cambie los footer y headcher  no tiene mediciones  :c\n",
    "\n",
    "datosP15=np.genfromtxt('medP.txt',usecols=(4,9)  )\n",
    "print(datosJB15 , datosP15)"
   ]
  },
  {
   "cell_type": "code",
   "execution_count": 27,
   "metadata": {},
   "outputs": [
    {
     "name": "stdout",
     "output_type": "stream",
     "text": [
      "[nan nan nan nan nan nan nan nan nan nan nan nan nan nan nan]\n"
     ]
    }
   ],
   "source": [
    "#datos JY angulo en radianes\n",
    "angulochiu15=     np.arctan(  datosJY15[:,0]  /  datosJY15[:,1]  )\n",
    "\n",
    "#datos JB en radianes\n",
    "angulochillan15=  np.arctan(  datosJB15[:,0]  /  datosJB15[:,1]  )\n",
    "\n",
    "#datos L en radianes\n",
    "anguloconce15=    np.arctan(  datosL15[:,0] /  datosL15[:,1] )\n",
    "\n",
    "#datos P en radianes\n",
    "angulovic15=    np.arctan(  datosP15[:,0] /  datosP15[:,1] )\n",
    "print(anguloconce15)\n"
   ]
  },
  {
   "cell_type": "code",
   "execution_count": 28,
   "metadata": {},
   "outputs": [
    {
     "name": "stdout",
     "output_type": "stream",
     "text": [
      "[ 103611.92747949   42872.77272114   39921.12145876  117864.41183248\n",
      "   15079.65742645  217826.44350943  726640.14890738  132917.6795694\n",
      "   40365.22079258   43506.30236425  296240.60221599  562135.49267488\n",
      " 2110500.51172686  415779.66759655   76238.0077485 ]\n"
     ]
    }
   ],
   "source": [
    "#radios \n",
    "radiocc15=radio(dist1,abs( angulochiu15-angulochillan15 ))\n",
    "#radiocc115=radio(dist2,abs( angulochillan15 - anguloconce15 ))\n",
    "#radioconchi15=radio(dist3,abs( anguloconce15 - angulochiu15 ))\n",
    "#radioviccon15=radio(dist5,abs(anguloconce15 - angulovic15))\n",
    "radiovicchi15=radio(dist6, abs( angulovic15 - angulochillan15  ))\n",
    "radiochiuvic15= radio( dist4, abs( angulochiu15 - angulovic15  ) )\n",
    "\n",
    "print(radiochiuvic15)\n"
   ]
  },
  {
   "cell_type": "code",
   "execution_count": 29,
   "metadata": {},
   "outputs": [
    {
     "data": {
      "image/png": "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",
      "text/plain": [
       "<Figure size 432x288 with 1 Axes>"
      ]
     },
     "metadata": {
      "needs_background": "light"
     },
     "output_type": "display_data"
    }
   ],
   "source": [
    "#plt.scatter(x15,radiocc115,marker='+',c='black')\n",
    "plt.scatter(x15,radiocc15,marker='s',c='blue')\n",
    "#plt.scatter(x15,radioconchi15,marker='v',c='red')\n",
    "#plt.scatter(x15,radioviccon15)\n",
    "plt.scatter(x15,radiovicchi15)\n",
    "plt.scatter(x15,radiochiuvic15)\n",
    "#plt.axis([0,16,0,10000])\n",
    "plt.ylabel('radio calculado de la tierra')# nose que ponerle\n",
    "plt.xlabel('numero de medición')\n",
    "plt.title('hora de medicion: 15.00 horas') # poner hora bien\n",
    "plt.show()"
   ]
  },
  {
   "cell_type": "code",
   "execution_count": 30,
   "metadata": {},
   "outputs": [
    {
     "name": "stdout",
     "output_type": "stream",
     "text": [
      "3749.121618638433\n",
      "nan\n",
      "4247.91344710473\n",
      "3943.73100271304\n"
     ]
    }
   ],
   "source": [
    "print(np.mean(radio(dist1,angulochillan15   )  ))\n",
    "print(np.mean(radio(dist1,anguloconce15  )  ))\n",
    "print(np.mean(radio(dist4,angulovic15  )  ))\n",
    "\n",
    "print(np.mean(radio(dist1, angulochiu15 )  ))"
   ]
  },
  {
   "cell_type": "markdown",
   "metadata": {},
   "source": [
    "Graficas del radio de la tierra considerando que a ciuertas horas es mejor la medición"
   ]
  },
  {
   "cell_type": "code",
   "execution_count": 31,
   "metadata": {},
   "outputs": [],
   "source": [
    "#grafico de las 1, la mejor hora para calcular el radio de la tierra debido a que en Chiu - Chiu el angulo entre el objeto \n",
    "#y la sombra es mejor\n",
    "\n",
    "#radios \n",
    "radiocc13=radio(dist1,abs( angulochillan13 ))\n",
    "\n",
    "\n",
    "#radioconchi13=radio(dist3,abs( anguloconce13 - angulochiu13) )  muy disperso los datos\n",
    "\n",
    "radiochiuvic13= radio( dist4, abs(  - angulovic13  ) )\n"
   ]
  },
  {
   "cell_type": "code",
   "execution_count": 32,
   "metadata": {},
   "outputs": [
    {
     "data": {
      "image/png": "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",
      "text/plain": [
       "<Figure size 432x288 with 1 Axes>"
      ]
     },
     "metadata": {
      "needs_background": "light"
     },
     "output_type": "display_data"
    }
   ],
   "source": [
    "plt.scatter(x15,radiocc13,marker='+',c='black')\n",
    "\n",
    "plt.scatter(x15,radioconchi13,marker='v',c='red')\n",
    "\n",
    "plt.scatter(x15,radiochiuvic13)\n",
    "#plt.axis([0,16,0,10000])\n",
    "plt.ylabel('radio calculado de la tierra')# nose que ponerle\n",
    "plt.xlabel('numero de medición')\n",
    "plt.title('hora de medicion: 13.00 horas') # poner hora bien\n",
    "plt.show()"
   ]
  },
  {
   "cell_type": "markdown",
   "metadata": {},
   "source": [
    "radios que usaremos"
   ]
  },
  {
   "cell_type": "code",
   "execution_count": 33,
   "metadata": {},
   "outputs": [],
   "source": [
    "radiochiuvic13= radio( dist4, abs(  - angulovic13  ) )\n",
    "radiocc13=radio(dist1,abs( angulochillan13 ))\n",
    "radiocc14=radio(dist1,abs( angulochillan14 ))  #era un eratostenes"
   ]
  },
  {
   "cell_type": "code",
   "execution_count": 34,
   "metadata": {},
   "outputs": [],
   "source": [
    "\n",
    "radiocc114=radio(dist2,abs( angulochillan14 - anguloconce14 ))\n",
    "radioconchi14=radio(dist3,abs( anguloconce14 - angulochiu14 ))\n",
    "radioviccon14=radio(dist5,abs(anguloconce14 - angulovic14))\n",
    "radiovicchi14=radio(dist6, abs( angulovic14 - angulochillan14  ))\n",
    "radiochiuvic14= radio( dist4, abs( angulochiu14 - angulovic14  ) )"
   ]
  },
  {
   "cell_type": "code",
   "execution_count": 35,
   "metadata": {},
   "outputs": [
    {
     "name": "stdout",
     "output_type": "stream",
     "text": [
      "[          nan           nan           nan           nan           nan\n",
      "  101.39559512  145.56126369  468.45586764  250.40236149 1569.32758648\n",
      "           nan           nan           nan           nan           nan]\n"
     ]
    }
   ],
   "source": [
    "print(radiocc114)"
   ]
  },
  {
   "cell_type": "code",
   "execution_count": 36,
   "metadata": {},
   "outputs": [
    {
     "data": {
      "image/png": "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",
      "text/plain": [
       "<Figure size 432x288 with 1 Axes>"
      ]
     },
     "metadata": {
      "needs_background": "light"
     },
     "output_type": "display_data"
    }
   ],
   "source": [
    "plt.hist(radiochiuvic13)\n",
    "plt.grid('true')"
   ]
  },
  {
   "cell_type": "code",
<<<<<<< Updated upstream
=======
   "execution_count": 61,
   "metadata": {},
   "outputs": [],
   "source": [
    "tot_radios=np.column_stack((radiochiuvic13,radiochiuvic12,radiochiuvic14,radiochiuvic15,radiochiuvic10))"
   ]
  },
  {
   "cell_type": "code",
   "execution_count": 62,
   "metadata": {},
   "outputs": [
    {
     "data": {
      "text/plain": [
       "(array([[0., 0., 2., 5., 5., 3., 0., 0., 0., 0.],\n",
       "        [1., 0., 0., 5., 5., 0., 0., 2., 0., 2.],\n",
       "        [0., 0., 1., 2., 5., 7., 0., 0., 0., 0.],\n",
       "        [0., 8., 7., 0., 0., 0., 0., 0., 0., 0.],\n",
       "        [1., 0., 0., 5., 5., 0., 0., 2., 0., 2.]]),\n",
       " array([3205.07116793, 3802.42819274, 4399.78521755, 4997.14224236,\n",
       "        5594.49926717, 6191.85629198, 6789.21331679, 7386.5703416 ,\n",
       "        7983.92736641, 8581.28439122, 9178.64141603]),\n",
       " <a list of 5 BarContainer objects>)"
      ]
     },
     "execution_count": 62,
     "metadata": {},
     "output_type": "execute_result"
    },
    {
     "data": {
      "image/png": "iVBORw0KGgoAAAANSUhEUgAAAWoAAAD4CAYAAADFAawfAAAAOXRFWHRTb2Z0d2FyZQBNYXRwbG90bGliIHZlcnNpb24zLjMuNCwgaHR0cHM6Ly9tYXRwbG90bGliLm9yZy8QVMy6AAAACXBIWXMAAAsTAAALEwEAmpwYAAAOb0lEQVR4nO3dfYxldX3H8ffHBYTFB0SuBsFxMTUIYVugE0RJSLtYBTWYNDaBBotNzcQEW7FNzBLTqv9pYxrblKgT1JKqGEqhNRgVWkpamxa6y4O76y7xacXlwV1rxIc2VfTbP+4ZGGfu7pyVOTO/y75fyc0993fPufv95m4+Ofd3zpmTqkKS1K5nrHcBkqRDM6glqXEGtSQ1zqCWpMYZ1JLUuKOG+NCTTjqpNm3aNMRHS9LT0vbt279bVaNJ7w0S1Js2bWLbtm1DfLQkPS0l+dbB3nPqQ5IaZ1BLUuMMaklqnEEtSY0zqCWpcQa1JDWuV1AneWeSXUl2JrkhybFDFyZJGlsxqJOcAvwRMFtVZwEbgMuGLkySNNZ36uMo4LgkRwEbgYeHK0mStNiKVyZW1UNJPgg8CPwvcFtV3bZ0vSRzwBzAzMzMatfZvN0vP2PZ2Bl7dq9DJZKebvpMfTwPeCNwGvAi4PgkVyxdr6rmq2q2qmZHo4mXq0uSfgl9pj5eDXyzqg5U1U+Bm4FXDVuWJGlBn6B+EDg/ycYkAS4C/E0vSWtkxaCuqruAm4B7gB3dNvMD1yVJ6vT6M6dV9R7gPQPXIkmawCsTJalxBrUkNc6glqTGGdSS1DiDWpIaZ1BLUuMMaklqnEEtSY0zqCWpcQa1JDXOoJakxhnUktQ4g1qSGmdQS1LjDGpJapxBLUmN63Nz29OT3Lfo8YMkV69BbZIketzhpaoeAM4GSLIBeAi4ZdiyJEkLDnfq4yLg61X1rSGKkSQtd7hBfRlwwxCFSJIm63VzW4AkxwCXAtcc5P05YA5gZmZmVYpTP7tffsaysTP27F6HSp6eNl+/ednYjit3rEMlOlIdzh71JcA9VfWdSW9W1XxVzVbV7Gg0Wp3qJEmHFdSX47SHJK25XkGdZCPwW8DNw5YjSVqq1xx1Vf0P8PyBa5EkTeCViZLUOINakhpnUEtS4wxqSWqcQS1JjTOoJalxBrUkNc6glqTGGdSS1DiDWpIaZ1BLUuMMaklqnEEtSY0zqCWpcQa1JDXOoJakxhnUktS4vrfiOiHJTUn2JNmd5JVDFyZJGut1Ky7gL4EvVNWbkhwDbBywJknSIisGdZLnABcCbwGoqp8APxm2LEnSgj5THy8FDgCfSHJvkuuSHL90pSRzSbYl2XbgwIFVL1SSjlR9gvoo4Fzgw1V1DvBjYOvSlapqvqpmq2p2NBqtcpmSdOTqE9T7gH1VdVf3+ibGwS1JWgMrBnVVPQp8O8np3dBFwFcGrUqS9IS+Z338IfCp7oyPbwC/P1xJkqTFegV1Vd0HzA5biiRpEq9MlKTGGdSS1DiDWpIaZ1BLUuMMaklqnEEtSY0zqCWpcQa1JDXOoJakxhnUktQ4g1qSGmdQS1LjDGpJapxBLUmNM6glqXEGtSQ1zqCWpMb1usNLkr3AD4GfAY9XlXd7kaQ10veeiQC/WVXfHawSSdJETn1IUuP67lEXcFuSAj5aVfNLV0gyB8wBzMzMrF6FGtymrZ9bNrb32N9dvuJ7H+v1ede+7Y5lY1d9ZMtT+rc3n7b8/9SOK3c8pX9bmhZ996gvqKpzgUuAq5JcuHSFqpqvqtmqmh2NRqtapCQdyXoFdVU93D3vB24BzhuyKEnSk1YM6iTHJ3n2wjLwGmDn0IVJksb6zFG/ELglycL6n66qLwxalSTpCSsGdVV9A/i1NahFkjSBp+dJUuMMaklqnEEtSY0zqCWpcQa1JDXOoJakxhnUktQ4g1qSGmdQS1LjDGpJapxBLUmNM6glqXEGtSQ1zqCWpMYZ1JLUOINakhpnUEtS43oHdZINSe5NcuuQBUmSftHh7FG/A9g9VCGSpMl6BXWSU4HXA9cNW44kaam+e9QfAt4F/PxgKySZS7ItybYDBw6sRm2SJHoEdZI3APuravuh1quq+aqararZ0Wi0agVK0pGuzx71BcClSfYCnwG2JPnkoFVJkp6wYlBX1TVVdWpVbQIuA+6oqisGr0ySBHgetSQ176jDWbmq7gTuHKQSSdJE7lFLUuMMaklqnEEtSY0zqCWpcQa1JDXOoJakxhnUktQ4g1qSGmdQS1LjDGpJapxBLUmNM6glqXEGtSQ1zqCWpMYZ1JLUOINakhpnUEtS4/rchfzYJHcnuT/JriTvW4vCJEljfW7F9X/Alqr6UZKjgS8l+XxV/efAtUmS6BHUVVXAj7qXR3ePGrIoSdKTet3cNskGYDvwK8C1VXXXhHXmgDmAmZmZ1axRGsSmrZ9bNrb3/a9fh0qkQ+t1MLGqflZVZwOnAuclOWvCOvNVNVtVs6PRaJXLlKQj12Gd9VFV3wfuBC4eohhJ0nJ9zvoYJTmhWz4OeDWwZ+C6JEmdPnPUJwPXd/PUzwBurKpbhy1LkrSgz1kfXwbOWYNaJEkTeGWiJDXOoJakxhnUktQ4g1qSGmdQS1LjDGpJapxBLUmNM6glqXEGtSQ1zqCWpMYZ1JLUOINakhpnUEtS4wxqSWqcQS1JjTOoJalxBrUkNa7PPRNfnORfkuxOsivJO9aiMEnSWJ97Jj4O/ElV3ZPk2cD2JLdX1VcGrk2SRI896qp6pKru6ZZ/COwGThm6MEnSWJ896ick2cT4Rrd3TXhvDpgDmJmZWY3ajiibtn5u2dje979+HSo5uM3Xb142tuPKHetQiVbde587YeyxXpte+7Y7lo1d9ZEtT7WitTElffc+mJjkWcDfA1dX1Q+Wvl9V81U1W1Wzo9FoNWuUpCNar6BOcjTjkP5UVd08bEmSpMX6nPUR4GPA7qr6i+FLkiQt1meP+gLgzcCWJPd1j9cNXJckqbPiwcSq+hKQNahFkjSBVyZKUuMMaklqnEEtSY0zqCWpcQa1JDXOoJakxhnUktQ4g1qSGmdQS1LjDGpJapxBLUmNM6glqXEGtSQ1zqCWpMYZ1JLUOINakhpnUEtS4/rcM/HjSfYn2bkWBUmSflGfPeq/AS4euA5J0kGsGNRV9a/A99agFknSBCve3LavJHPAHMDMzMxqfezYe587YeyxXpte+7Y7lo1d9ZEtT7WidbP5+s3Lxm5chzokrZ1VO5hYVfNVNVtVs6PRaLU+VpKOeJ71IUmNM6glqXF9Ts+7AfgP4PQk+5L8wfBlSZIWrHgwsaouX4tCJEmTOfUhSY0zqCWpcQa1JDXOoJakxhnUktQ4g1qSGmdQS1LjDGpJapxBLUmNM6glqXEGtSQ1zqCWpMYZ1JLUOINakhpnUEtS4wxqSWqcQS1JjesV1EkuTvJAkq8l2Tp0UZKkJ/W5Z+IG4FrgEuBM4PIkZw5dmCRprM8e9XnA16rqG1X1E+AzwBuHLUuStCBVdegVkjcBF1fVW7vXbwZeUVVvX7LeHDDXvTwd+G/gu6te8fo5Cftpmf20zX5W9pKqGk16Y8W7kAOZMLYs3atqHph/YqNkW1XN9i6xcfbTNvtpm/08NX2mPvYBL170+lTg4WHKkSQt1Seo/wt4WZLTkhwDXAZ8dtiyJEkLVpz6qKrHk7wd+CKwAfh4Ve3q8dnzK68yVeynbfbTNvt5ClY8mChJWl9emShJjTOoJalxvYM6ybFJ7k5yf5JdSd7XjZ+Y5PYkX+2en7dom2u6y84fSPLaReO/nmRH995fJZl0CuCaSLIhyb1Jbu1eT20/SfZ2ddyXZNvToJ8TktyUZE+S3UleOa39JDm9+14WHj9IcvW09tPV8c4uC3YmuaHLiGnu5x1dL7uSXN2NtdFPVfV6MD6f+lnd8tHAXcD5wJ8DW7vxrcAHuuUzgfuBZwKnAV8HNnTv3Q28svvMzwOX9K1jtR/AHwOfBm7tXk9tP8Be4KQlY9Pcz/XAW7vlY4ATprmfRX1tAB4FXjKt/QCnAN8Ejute3wi8ZYr7OQvYCWxkfJLFPwEva6WfX7apjcA9wCuAB4CTu/GTgQe65WuAaxZt88Wu+JOBPYvGLwc+utZfTPdvnwr8M7CFJ4N6mvvZy/Kgnsp+gOd0QZCnQz9LengN8O/T3A/joP42cCLjYLu162ta+/kd4LpFr/8UeFcr/RzWHHU3TXAfsB+4varuAl5YVY8AdM8v6FZf+CIX7OvGTumWl46vhw8x/jJ+vmhsmvsp4LYk2zO+pB+mt5+XAgeAT3RTU9clOZ7p7Wexy4AbuuWp7KeqHgI+CDwIPAI8VlW3MaX9MN6bvjDJ85NsBF7H+EK/Jvo5rKCuqp9V1dmM90TPS3LWIVY/2KXnvS5JH1qSNwD7q2p7300mjDXTT+eCqjqX8V86vCrJhYdYt/V+jgLOBT5cVecAP2b80/NgWu8HgIwvGrsU+LuVVp0w1kw/3VztGxn/7H8RcHySKw61yYSxZvqpqt3AB4DbgS8wntZ4/BCbrGk/v9RZH1X1feBO4GLgO0lOBuie93erHezS833d8tLxtXYBcGmSvYz/IuCWJJ9kevuhqh7unvcDtzD+y4fT2s8+YF/3qw3gJsbBPa39LLgEuKeqvtO9ntZ+Xg18s6oOVNVPgZuBVzG9/VBVH6uqc6vqQuB7wFdppJ/DOetjlOSEbvk4xl/UHsaXk1/ZrXYl8I/d8meBy5I8M8lpjCfm7+5+Pvwwyfnd0dDfW7TNmqmqa6rq1KraxPin6B1VdQVT2k+S45M8e2GZ8XzhTqa0n6p6FPh2ktO7oYuArzCl/SxyOU9Oe8D09vMgcH6SjV0dFwG7md5+SPKC7nkG+G3G31Mb/RzGZPuvAvcCX2YcAH/WjT+f8QG5r3bPJy7a5t2Mj4Y+wKIjn8Bs9xlfB/6aJQeM1uFAwm/w5MHEqeyH8Zzu/d1jF/Duae6nq+NsYFv3f+4fgOdNeT8bGf/53+cuGpvmft7HeGdtJ/C3jM+AmOZ+/o3xzsD9wEUtfT9eQi5JjfPKRElqnEEtSY0zqCWpcQa1JDXOoJakxhnUktQ4g1qSGvf/9LndePbPqScAAAAASUVORK5CYII=",
      "text/plain": [
       "<Figure size 432x288 with 1 Axes>"
      ]
     },
     "metadata": {
      "needs_background": "light"
     },
     "output_type": "display_data"
    }
   ],
   "source": [
    "plt.hist(tot_radios)"
   ]
  },
  {
   "cell_type": "code",
   "execution_count": 57,
   "metadata": {},
   "outputs": [],
   "source": [
    "radiochiuvic13= radio( dist4, abs(  - angulovic13  ) )#eratostenes en chiu\n",
    "radiocc13=radio(dist1,abs( angulochillan13 ))  #eratrostenes\n",
    "radiocc14=radio(dist1,abs( angulochillan14 ))  #era un eratostenes en chiu\n",
    "#radioconchi14=radio(dist3,abs( anguloconce14  - angulochiu14)) # reconsiderar :c\n",
    "radiochiuvic14= radio( dist4, abs( - angulovic14  ) ) #le quite aangulochiu14 por eratostenes en chiu\n",
    "radiocc12=radio(dist1,abs( angulochiu12))  #le reste angulochillan12 eratostenes en chillan\n",
    "radioconchi12=radio(dist3,abs( - angulochiu12 )) #le reste anguloconce12  ertaostenes en conce\n",
    "radiochiuvic12= radio( dist4, abs( angulochiu12  ) ) # eratostenes en victoria\n",
    "#radiocc15=radio(dist1,abs( angulochiu15 ))  #considerar, le quite -angulochillan15, por eratostenes  en chillan\n",
    "#radiochiuvic15= radio( dist4, abs( angulochiu15  ) ) # ksi eratostenes en victoria\n",
    "radiocc10=radio(dist1,abs( angulochiu10 )) #eratostenes en  chillan ,quite angulochillan10\n",
    "radioconchi10=radio(dist3,abs(   - angulochiu10)) #eratostenes en conce , quite anguloconce10\n",
    "radiochiuvic10= radio( dist4, abs( angulochiu10  ) ) #eratostenes en  victoria quite  angulovic10"
   ]
  },
  {
   "cell_type": "code",
   "execution_count": 114,
   "metadata": {},
   "outputs": [
    {
     "data": {
      "text/plain": [
       "<function matplotlib.pyplot.hist(x, bins=None, range=None, density=False, weights=None, cumulative=False, bottom=None, histtype='bar', align='mid', orientation='vertical', rwidth=None, log=False, color=None, label=None, stacked=False, *, data=None, **kwargs)>"
      ]
     },
     "execution_count": 114,
     "metadata": {},
     "output_type": "execute_result"
    }
   ],
   "source": [
    "tot_radios_selec=np.column_stack((radiochiuvic10,radioconchi10,radiocc10,radiochiuvic12,radioconchi12,radiocc12,radiochiuvic14,radiocc14,radiocc13,radiochiuvic13))\n",
    "plt.hist"
   ]
  },
  {
   "cell_type": "code",
   "execution_count": null,
   "metadata": {},
   "outputs": [],
   "source": []
  },
  {
   "cell_type": "code",
   "execution_count": 119,
   "metadata": {},
   "outputs": [
    {
     "data": {
      "image/png": "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",
      "text/plain": [
       "<Figure size 640x480 with 1 Axes>"
      ]
     },
     "metadata": {},
     "output_type": "display_data"
    }
   ],
   "source": [
    "#plt.style.use('fivethirtyeight')\n",
    "plt.style.use('bmh')\n",
    "plt.scatter(x15,radiochiuvic13)\n",
    "plt.scatter(x15,radiocc13)\n",
    "plt.scatter(x15,radiocc14)\n",
    "plt.scatter(x15,radiochiuvic14)\n",
    "plt.scatter(x15,radiocc12)\n",
    "plt.scatter(x15,radioconchi12)\n",
    "plt.scatter(x15,radiochiuvic12)\n",
    "plt.scatter(x15,radiocc10)\n",
    "plt.scatter(x15,radioconchi10)\n",
    "plt.scatter(x15,radiochiuvic10)\n",
    "#plt.axis([-0.5,15.5,0,10000])\n",
    "plt.ylabel('Radio  $[Km]$')\n",
    "plt.xlabel('n° de medición')\n",
    "plt.title('Radios medidos')\n",
    "\n",
    "plt.savefig('radios.png')"
   ]
  },
  {
   "cell_type": "code",
   "execution_count": 120,
   "metadata": {},
   "outputs": [
    {
     "name": "stdout",
     "output_type": "stream",
     "text": [
      "1152.1332435767551\n",
      "5828.7137127185815\n"
     ]
    },
    {
     "data": {
      "image/png": "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",
      "text/plain": [
       "<Figure size 640x480 with 1 Axes>"
      ]
     },
     "metadata": {},
     "output_type": "display_data"
    }
   ],
   "source": [
    "plt.style.use('default')\n",
    "print(np.std(tot_radios_selec,ddof=1))\n",
    "plt.hist(tot_radios_selec)\n",
    "print(np.mean(tot_radios_selec))"
   ]
  },
  {
   "cell_type": "code",
>>>>>>> Stashed changes
   "execution_count": null,
   "metadata": {},
   "outputs": [],
   "source": []
  }
 ],
 "metadata": {
  "interpreter": {
   "hash": "31f2aee4e71d21fbe5cf8b01ff0e069b9275f58929596ceb00d14d90e3e16cd6"
  },
  "kernelspec": {
   "display_name": "Python 3.6.13 64-bit",
   "name": "python3"
  },
  "language_info": {
   "codemirror_mode": {
    "name": "ipython",
    "version": 3
   },
   "file_extension": ".py",
   "mimetype": "text/x-python",
   "name": "python",
   "nbconvert_exporter": "python",
   "pygments_lexer": "ipython3",
   "version": "3.8.8"
  }
 },
 "nbformat": 4,
 "nbformat_minor": 4
}
